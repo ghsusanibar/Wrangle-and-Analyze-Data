{
 "cells": [
  {
   "cell_type": "markdown",
   "id": "8f7b95cd-139b-48be-9101-ecd8f4edcb83",
   "metadata": {},
   "source": [
    "# Wrangle and Analyze Data"
   ]
  },
  {
   "cell_type": "markdown",
   "id": "485d70a6-05fa-4f42-b4e3-6ac0f081dbc7",
   "metadata": {},
   "source": [
    "# 1. Import libraries"
   ]
  },
  {
   "cell_type": "code",
   "execution_count": 1,
   "id": "144b88a8-6fae-48bc-9308-f257010e666b",
   "metadata": {},
   "outputs": [],
   "source": [
    "import pandas as pd\n",
    "import numpy as np\n",
    "import matplotlib.pyplot as plt \n",
    "import seaborn as sns\n",
    "import json\n",
    "import datetime\n",
    "import requests\n",
    "import tweepy\n",
    "from tweepy import OAuthHandler\n",
    "from timeit import default_timer as timer\n",
    "from subprocess import call\n",
    "from tqdm import trange,tqdm"
   ]
  },
  {
   "cell_type": "markdown",
   "id": "539d8b56-8e5f-457e-8b45-7e7179f500a9",
   "metadata": {},
   "source": [
    "# 2. Gathering Data"
   ]
  },
  {
   "cell_type": "markdown",
   "id": "8976e581-c41a-402d-9821-2125028e0b4a",
   "metadata": {},
   "source": [
    "## 2.1 WeRateDogs Twitter archive"
   ]
  },
  {
   "cell_type": "code",
   "execution_count": 2,
   "id": "65b93ba6-b040-488e-9c16-8d3945898d64",
   "metadata": {},
   "outputs": [
    {
     "data": {
      "text/plain": [
       "(2356, 17)"
      ]
     },
     "execution_count": 2,
     "metadata": {},
     "output_type": "execute_result"
    }
   ],
   "source": [
    "df1 = pd.read_csv('twitter-archive-enhanced.csv')\n",
    "df1.shape"
   ]
  },
  {
   "cell_type": "code",
   "execution_count": 3,
   "id": "fb85e9d5-bdca-4bba-b65f-0a7597196afa",
   "metadata": {},
   "outputs": [
    {
     "data": {
      "text/html": [
       "<div>\n",
       "<style scoped>\n",
       "    .dataframe tbody tr th:only-of-type {\n",
       "        vertical-align: middle;\n",
       "    }\n",
       "\n",
       "    .dataframe tbody tr th {\n",
       "        vertical-align: top;\n",
       "    }\n",
       "\n",
       "    .dataframe thead th {\n",
       "        text-align: right;\n",
       "    }\n",
       "</style>\n",
       "<table border=\"1\" class=\"dataframe\">\n",
       "  <thead>\n",
       "    <tr style=\"text-align: right;\">\n",
       "      <th></th>\n",
       "      <th>tweet_id</th>\n",
       "      <th>in_reply_to_status_id</th>\n",
       "      <th>in_reply_to_user_id</th>\n",
       "      <th>timestamp</th>\n",
       "      <th>source</th>\n",
       "      <th>text</th>\n",
       "      <th>retweeted_status_id</th>\n",
       "      <th>retweeted_status_user_id</th>\n",
       "      <th>retweeted_status_timestamp</th>\n",
       "      <th>expanded_urls</th>\n",
       "      <th>rating_numerator</th>\n",
       "      <th>rating_denominator</th>\n",
       "      <th>name</th>\n",
       "      <th>doggo</th>\n",
       "      <th>floofer</th>\n",
       "      <th>pupper</th>\n",
       "      <th>puppo</th>\n",
       "    </tr>\n",
       "  </thead>\n",
       "  <tbody>\n",
       "    <tr>\n",
       "      <th>0</th>\n",
       "      <td>892420643555336193</td>\n",
       "      <td>NaN</td>\n",
       "      <td>NaN</td>\n",
       "      <td>2017-08-01 16:23:56 +0000</td>\n",
       "      <td>&lt;a href=\"http://twitter.com/download/iphone\" r...</td>\n",
       "      <td>This is Phineas. He's a mystical boy. Only eve...</td>\n",
       "      <td>NaN</td>\n",
       "      <td>NaN</td>\n",
       "      <td>NaN</td>\n",
       "      <td>https://twitter.com/dog_rates/status/892420643...</td>\n",
       "      <td>13</td>\n",
       "      <td>10</td>\n",
       "      <td>Phineas</td>\n",
       "      <td>None</td>\n",
       "      <td>None</td>\n",
       "      <td>None</td>\n",
       "      <td>None</td>\n",
       "    </tr>\n",
       "    <tr>\n",
       "      <th>1</th>\n",
       "      <td>892177421306343426</td>\n",
       "      <td>NaN</td>\n",
       "      <td>NaN</td>\n",
       "      <td>2017-08-01 00:17:27 +0000</td>\n",
       "      <td>&lt;a href=\"http://twitter.com/download/iphone\" r...</td>\n",
       "      <td>This is Tilly. She's just checking pup on you....</td>\n",
       "      <td>NaN</td>\n",
       "      <td>NaN</td>\n",
       "      <td>NaN</td>\n",
       "      <td>https://twitter.com/dog_rates/status/892177421...</td>\n",
       "      <td>13</td>\n",
       "      <td>10</td>\n",
       "      <td>Tilly</td>\n",
       "      <td>None</td>\n",
       "      <td>None</td>\n",
       "      <td>None</td>\n",
       "      <td>None</td>\n",
       "    </tr>\n",
       "  </tbody>\n",
       "</table>\n",
       "</div>"
      ],
      "text/plain": [
       "             tweet_id  in_reply_to_status_id  in_reply_to_user_id  \\\n",
       "0  892420643555336193                    NaN                  NaN   \n",
       "1  892177421306343426                    NaN                  NaN   \n",
       "\n",
       "                   timestamp  \\\n",
       "0  2017-08-01 16:23:56 +0000   \n",
       "1  2017-08-01 00:17:27 +0000   \n",
       "\n",
       "                                              source  \\\n",
       "0  <a href=\"http://twitter.com/download/iphone\" r...   \n",
       "1  <a href=\"http://twitter.com/download/iphone\" r...   \n",
       "\n",
       "                                                text  retweeted_status_id  \\\n",
       "0  This is Phineas. He's a mystical boy. Only eve...                  NaN   \n",
       "1  This is Tilly. She's just checking pup on you....                  NaN   \n",
       "\n",
       "   retweeted_status_user_id retweeted_status_timestamp  \\\n",
       "0                       NaN                        NaN   \n",
       "1                       NaN                        NaN   \n",
       "\n",
       "                                       expanded_urls  rating_numerator  \\\n",
       "0  https://twitter.com/dog_rates/status/892420643...                13   \n",
       "1  https://twitter.com/dog_rates/status/892177421...                13   \n",
       "\n",
       "   rating_denominator     name doggo floofer pupper puppo  \n",
       "0                  10  Phineas  None    None   None  None  \n",
       "1                  10    Tilly  None    None   None  None  "
      ]
     },
     "execution_count": 3,
     "metadata": {},
     "output_type": "execute_result"
    }
   ],
   "source": [
    "df1.head(2)"
   ]
  },
  {
   "cell_type": "markdown",
   "id": "54ed653e-9135-4113-acae-f916dc5ec2dc",
   "metadata": {},
   "source": [
    "## 2.2 Tweet image predictions"
   ]
  },
  {
   "cell_type": "code",
   "execution_count": 4,
   "id": "3094acc3-3f5d-4b44-ad8a-7eaa8b5caaf0",
   "metadata": {},
   "outputs": [],
   "source": [
    "URL = 'https://d17h27t6h515a5.cloudfront.net/topher/2017/August/599fd2ad_image-predictions/image-predictions.tsv'\n",
    "get_requests = requests.get(URL)\n",
    "with open (URL.split('/')[-1], mode='wb') as file:\n",
    "    file.write(get_requests.content)"
   ]
  },
  {
   "cell_type": "code",
   "execution_count": 5,
   "id": "61ef9325-8507-4a71-946f-eab607b38725",
   "metadata": {},
   "outputs": [
    {
     "data": {
      "text/plain": [
       "(2075, 12)"
      ]
     },
     "execution_count": 5,
     "metadata": {},
     "output_type": "execute_result"
    }
   ],
   "source": [
    "df2 = pd.read_csv('image-predictions.tsv', sep='\\t')\n",
    "df2.shape"
   ]
  },
  {
   "cell_type": "code",
   "execution_count": 6,
   "id": "7d4f4d31-23b8-4edf-816b-1bc210281554",
   "metadata": {},
   "outputs": [
    {
     "data": {
      "text/html": [
       "<div>\n",
       "<style scoped>\n",
       "    .dataframe tbody tr th:only-of-type {\n",
       "        vertical-align: middle;\n",
       "    }\n",
       "\n",
       "    .dataframe tbody tr th {\n",
       "        vertical-align: top;\n",
       "    }\n",
       "\n",
       "    .dataframe thead th {\n",
       "        text-align: right;\n",
       "    }\n",
       "</style>\n",
       "<table border=\"1\" class=\"dataframe\">\n",
       "  <thead>\n",
       "    <tr style=\"text-align: right;\">\n",
       "      <th></th>\n",
       "      <th>tweet_id</th>\n",
       "      <th>jpg_url</th>\n",
       "      <th>img_num</th>\n",
       "      <th>p1</th>\n",
       "      <th>p1_conf</th>\n",
       "      <th>p1_dog</th>\n",
       "      <th>p2</th>\n",
       "      <th>p2_conf</th>\n",
       "      <th>p2_dog</th>\n",
       "      <th>p3</th>\n",
       "      <th>p3_conf</th>\n",
       "      <th>p3_dog</th>\n",
       "    </tr>\n",
       "  </thead>\n",
       "  <tbody>\n",
       "    <tr>\n",
       "      <th>0</th>\n",
       "      <td>666020888022790149</td>\n",
       "      <td>https://pbs.twimg.com/media/CT4udn0WwAA0aMy.jpg</td>\n",
       "      <td>1</td>\n",
       "      <td>Welsh_springer_spaniel</td>\n",
       "      <td>0.465074</td>\n",
       "      <td>True</td>\n",
       "      <td>collie</td>\n",
       "      <td>0.156665</td>\n",
       "      <td>True</td>\n",
       "      <td>Shetland_sheepdog</td>\n",
       "      <td>0.061428</td>\n",
       "      <td>True</td>\n",
       "    </tr>\n",
       "    <tr>\n",
       "      <th>1</th>\n",
       "      <td>666029285002620928</td>\n",
       "      <td>https://pbs.twimg.com/media/CT42GRgUYAA5iDo.jpg</td>\n",
       "      <td>1</td>\n",
       "      <td>redbone</td>\n",
       "      <td>0.506826</td>\n",
       "      <td>True</td>\n",
       "      <td>miniature_pinscher</td>\n",
       "      <td>0.074192</td>\n",
       "      <td>True</td>\n",
       "      <td>Rhodesian_ridgeback</td>\n",
       "      <td>0.072010</td>\n",
       "      <td>True</td>\n",
       "    </tr>\n",
       "  </tbody>\n",
       "</table>\n",
       "</div>"
      ],
      "text/plain": [
       "             tweet_id                                          jpg_url  \\\n",
       "0  666020888022790149  https://pbs.twimg.com/media/CT4udn0WwAA0aMy.jpg   \n",
       "1  666029285002620928  https://pbs.twimg.com/media/CT42GRgUYAA5iDo.jpg   \n",
       "\n",
       "   img_num                      p1   p1_conf  p1_dog                  p2  \\\n",
       "0        1  Welsh_springer_spaniel  0.465074    True              collie   \n",
       "1        1                 redbone  0.506826    True  miniature_pinscher   \n",
       "\n",
       "    p2_conf  p2_dog                   p3   p3_conf  p3_dog  \n",
       "0  0.156665    True    Shetland_sheepdog  0.061428    True  \n",
       "1  0.074192    True  Rhodesian_ridgeback  0.072010    True  "
      ]
     },
     "execution_count": 6,
     "metadata": {},
     "output_type": "execute_result"
    }
   ],
   "source": [
    "df2.head(2)"
   ]
  },
  {
   "cell_type": "markdown",
   "id": "46eacc33-1b70-454a-b060-f5f8ff48b50e",
   "metadata": {},
   "source": [
    "## 2.3 tweet's retweet count and favorite"
   ]
  },
  {
   "cell_type": "code",
   "execution_count": 7,
   "id": "dac99cab-0a68-4eee-aa3f-62d4c63b74dd",
   "metadata": {},
   "outputs": [],
   "source": [
    "with open('creds.json') as f:\n",
    "    twitter_creds = json.load(f)"
   ]
  },
  {
   "cell_type": "code",
   "execution_count": 8,
   "id": "54ebad22-72ea-4865-9837-f869175f6fc9",
   "metadata": {},
   "outputs": [],
   "source": [
    "### Authentication\n",
    "auth = OAuthHandler(twitter_creds['API_KEY'], twitter_creds['API_SECRET_KEY'])\n",
    "auth.set_access_token(twitter_creds['ACCESS_TOKEN'], twitter_creds['ACCESS_TOKEN_SECRET'])\n",
    "api = tweepy.API(auth, parser = tweepy.parsers.JSONParser(), wait_on_rate_limit=True)"
   ]
  },
  {
   "cell_type": "code",
   "execution_count": 45,
   "id": "56ea7118-6a1e-4ead-80a2-71ec46ae365a",
   "metadata": {},
   "outputs": [
    {
     "name": "stderr",
     "output_type": "stream",
     "text": [
      "100%|██████████| 2356/2356 [35:02<00:00,  1.12it/s]   \n"
     ]
    }
   ],
   "source": [
    "### Twitter query\n",
    "with open('tweet_json.txt', 'w') as json_file:\n",
    "    for tweet_id in tqdm(df1.tweet_id.unique()):\n",
    "        try:\n",
    "            status = api.get_status(tweet_id)\n",
    "            json_file.write(json.dumps(status))\n",
    "            json_file.write('\\n')\n",
    "        except tweepy.TweepError as e:\n",
    "            pass"
   ]
  },
  {
   "cell_type": "code",
   "execution_count": 9,
   "id": "ab86788a-5896-439c-bfb6-20c4cf386278",
   "metadata": {},
   "outputs": [
    {
     "data": {
      "text/plain": [
       "(2328, 6)"
      ]
     },
     "execution_count": 9,
     "metadata": {},
     "output_type": "execute_result"
    }
   ],
   "source": [
    "### Read json file\n",
    "df3 = pd.DataFrame(columns=['tweet_id','retweet_count','favorite_count','followers_count','retweeted_status','url'])\n",
    "with open('tweet_json.txt', encoding='utf-8') as json_file:\n",
    "    for status in json_file:\n",
    "        data = json.loads(status)\n",
    "        tweet_id = data['id']\n",
    "        retweet_count = data['retweet_count']\n",
    "        favorite_count = data['favorite_count']        \n",
    "        followers_count = data['user']['followers_count']\n",
    "        full_text = data['text']\n",
    "        original_url = full_text[full_text.find('https'):]\n",
    "        retweeted_status = data['retweeted_status'] = data.get('retweeted_status', 'Original tweet')\n",
    "        if retweeted_status == 'Original tweet':\n",
    "            url = original_url\n",
    "        else:\n",
    "            retweeted_status = 'Retweet'\n",
    "            url = 'Retweet'\n",
    "        tweet_dict = {'tweet_id': tweet_id,'retweet_count': retweet_count,'favorite_count': favorite_count,'followers_count': followers_count,'retweeted_status': retweeted_status,'url': url}\n",
    "        df3 = df3.append(tweet_dict, ignore_index=True)\n",
    "df3.shape"
   ]
  },
  {
   "cell_type": "code",
   "execution_count": 10,
   "id": "f46f5d4f-14ba-4a2c-91fb-372988b0915a",
   "metadata": {},
   "outputs": [
    {
     "data": {
      "text/html": [
       "<div>\n",
       "<style scoped>\n",
       "    .dataframe tbody tr th:only-of-type {\n",
       "        vertical-align: middle;\n",
       "    }\n",
       "\n",
       "    .dataframe tbody tr th {\n",
       "        vertical-align: top;\n",
       "    }\n",
       "\n",
       "    .dataframe thead th {\n",
       "        text-align: right;\n",
       "    }\n",
       "</style>\n",
       "<table border=\"1\" class=\"dataframe\">\n",
       "  <thead>\n",
       "    <tr style=\"text-align: right;\">\n",
       "      <th></th>\n",
       "      <th>tweet_id</th>\n",
       "      <th>retweet_count</th>\n",
       "      <th>favorite_count</th>\n",
       "      <th>followers_count</th>\n",
       "      <th>retweeted_status</th>\n",
       "      <th>url</th>\n",
       "    </tr>\n",
       "  </thead>\n",
       "  <tbody>\n",
       "    <tr>\n",
       "      <th>0</th>\n",
       "      <td>892420643555336193</td>\n",
       "      <td>7237</td>\n",
       "      <td>34675</td>\n",
       "      <td>9001806</td>\n",
       "      <td>Original tweet</td>\n",
       "      <td>https://t.co/MgUWQ76dJU</td>\n",
       "    </tr>\n",
       "    <tr>\n",
       "      <th>1</th>\n",
       "      <td>892177421306343426</td>\n",
       "      <td>5420</td>\n",
       "      <td>30046</td>\n",
       "      <td>9001806</td>\n",
       "      <td>Original tweet</td>\n",
       "      <td>https://t.co/aQFSeaCu9L</td>\n",
       "    </tr>\n",
       "  </tbody>\n",
       "</table>\n",
       "</div>"
      ],
      "text/plain": [
       "             tweet_id retweet_count favorite_count followers_count  \\\n",
       "0  892420643555336193          7237          34675         9001806   \n",
       "1  892177421306343426          5420          30046         9001806   \n",
       "\n",
       "  retweeted_status                      url  \n",
       "0   Original tweet  https://t.co/MgUWQ76dJU  \n",
       "1   Original tweet  https://t.co/aQFSeaCu9L  "
      ]
     },
     "execution_count": 10,
     "metadata": {},
     "output_type": "execute_result"
    }
   ],
   "source": [
    "df3.head(2)"
   ]
  },
  {
   "cell_type": "markdown",
   "id": "8f74c8f4-923a-4ad7-b526-66192ebea36e",
   "metadata": {},
   "source": [
    "# 3. Assessing Data"
   ]
  },
  {
   "cell_type": "markdown",
   "id": "8bdaab53-4b31-4812-82a7-41153db0bbd4",
   "metadata": {},
   "source": [
    "### Head"
   ]
  },
  {
   "cell_type": "code",
   "execution_count": 11,
   "id": "2360d255-45f1-49b0-bb88-126a2ef788e4",
   "metadata": {},
   "outputs": [
    {
     "data": {
      "text/html": [
       "<div>\n",
       "<style scoped>\n",
       "    .dataframe tbody tr th:only-of-type {\n",
       "        vertical-align: middle;\n",
       "    }\n",
       "\n",
       "    .dataframe tbody tr th {\n",
       "        vertical-align: top;\n",
       "    }\n",
       "\n",
       "    .dataframe thead th {\n",
       "        text-align: right;\n",
       "    }\n",
       "</style>\n",
       "<table border=\"1\" class=\"dataframe\">\n",
       "  <thead>\n",
       "    <tr style=\"text-align: right;\">\n",
       "      <th></th>\n",
       "      <th>tweet_id</th>\n",
       "      <th>in_reply_to_status_id</th>\n",
       "      <th>in_reply_to_user_id</th>\n",
       "      <th>timestamp</th>\n",
       "      <th>source</th>\n",
       "      <th>text</th>\n",
       "      <th>retweeted_status_id</th>\n",
       "      <th>retweeted_status_user_id</th>\n",
       "      <th>retweeted_status_timestamp</th>\n",
       "      <th>expanded_urls</th>\n",
       "      <th>rating_numerator</th>\n",
       "      <th>rating_denominator</th>\n",
       "      <th>name</th>\n",
       "      <th>doggo</th>\n",
       "      <th>floofer</th>\n",
       "      <th>pupper</th>\n",
       "      <th>puppo</th>\n",
       "    </tr>\n",
       "  </thead>\n",
       "  <tbody>\n",
       "    <tr>\n",
       "      <th>0</th>\n",
       "      <td>892420643555336193</td>\n",
       "      <td>NaN</td>\n",
       "      <td>NaN</td>\n",
       "      <td>2017-08-01 16:23:56 +0000</td>\n",
       "      <td>&lt;a href=\"http://twitter.com/download/iphone\" r...</td>\n",
       "      <td>This is Phineas. He's a mystical boy. Only eve...</td>\n",
       "      <td>NaN</td>\n",
       "      <td>NaN</td>\n",
       "      <td>NaN</td>\n",
       "      <td>https://twitter.com/dog_rates/status/892420643...</td>\n",
       "      <td>13</td>\n",
       "      <td>10</td>\n",
       "      <td>Phineas</td>\n",
       "      <td>None</td>\n",
       "      <td>None</td>\n",
       "      <td>None</td>\n",
       "      <td>None</td>\n",
       "    </tr>\n",
       "    <tr>\n",
       "      <th>1</th>\n",
       "      <td>892177421306343426</td>\n",
       "      <td>NaN</td>\n",
       "      <td>NaN</td>\n",
       "      <td>2017-08-01 00:17:27 +0000</td>\n",
       "      <td>&lt;a href=\"http://twitter.com/download/iphone\" r...</td>\n",
       "      <td>This is Tilly. She's just checking pup on you....</td>\n",
       "      <td>NaN</td>\n",
       "      <td>NaN</td>\n",
       "      <td>NaN</td>\n",
       "      <td>https://twitter.com/dog_rates/status/892177421...</td>\n",
       "      <td>13</td>\n",
       "      <td>10</td>\n",
       "      <td>Tilly</td>\n",
       "      <td>None</td>\n",
       "      <td>None</td>\n",
       "      <td>None</td>\n",
       "      <td>None</td>\n",
       "    </tr>\n",
       "  </tbody>\n",
       "</table>\n",
       "</div>"
      ],
      "text/plain": [
       "             tweet_id  in_reply_to_status_id  in_reply_to_user_id  \\\n",
       "0  892420643555336193                    NaN                  NaN   \n",
       "1  892177421306343426                    NaN                  NaN   \n",
       "\n",
       "                   timestamp  \\\n",
       "0  2017-08-01 16:23:56 +0000   \n",
       "1  2017-08-01 00:17:27 +0000   \n",
       "\n",
       "                                              source  \\\n",
       "0  <a href=\"http://twitter.com/download/iphone\" r...   \n",
       "1  <a href=\"http://twitter.com/download/iphone\" r...   \n",
       "\n",
       "                                                text  retweeted_status_id  \\\n",
       "0  This is Phineas. He's a mystical boy. Only eve...                  NaN   \n",
       "1  This is Tilly. She's just checking pup on you....                  NaN   \n",
       "\n",
       "   retweeted_status_user_id retweeted_status_timestamp  \\\n",
       "0                       NaN                        NaN   \n",
       "1                       NaN                        NaN   \n",
       "\n",
       "                                       expanded_urls  rating_numerator  \\\n",
       "0  https://twitter.com/dog_rates/status/892420643...                13   \n",
       "1  https://twitter.com/dog_rates/status/892177421...                13   \n",
       "\n",
       "   rating_denominator     name doggo floofer pupper puppo  \n",
       "0                  10  Phineas  None    None   None  None  \n",
       "1                  10    Tilly  None    None   None  None  "
      ]
     },
     "execution_count": 11,
     "metadata": {},
     "output_type": "execute_result"
    }
   ],
   "source": [
    "df1.head(2)"
   ]
  },
  {
   "cell_type": "code",
   "execution_count": 12,
   "id": "4c6c06fc-f153-4b8c-b8cf-f744b3dccfcc",
   "metadata": {},
   "outputs": [
    {
     "data": {
      "text/html": [
       "<div>\n",
       "<style scoped>\n",
       "    .dataframe tbody tr th:only-of-type {\n",
       "        vertical-align: middle;\n",
       "    }\n",
       "\n",
       "    .dataframe tbody tr th {\n",
       "        vertical-align: top;\n",
       "    }\n",
       "\n",
       "    .dataframe thead th {\n",
       "        text-align: right;\n",
       "    }\n",
       "</style>\n",
       "<table border=\"1\" class=\"dataframe\">\n",
       "  <thead>\n",
       "    <tr style=\"text-align: right;\">\n",
       "      <th></th>\n",
       "      <th>tweet_id</th>\n",
       "      <th>jpg_url</th>\n",
       "      <th>img_num</th>\n",
       "      <th>p1</th>\n",
       "      <th>p1_conf</th>\n",
       "      <th>p1_dog</th>\n",
       "      <th>p2</th>\n",
       "      <th>p2_conf</th>\n",
       "      <th>p2_dog</th>\n",
       "      <th>p3</th>\n",
       "      <th>p3_conf</th>\n",
       "      <th>p3_dog</th>\n",
       "    </tr>\n",
       "  </thead>\n",
       "  <tbody>\n",
       "    <tr>\n",
       "      <th>0</th>\n",
       "      <td>666020888022790149</td>\n",
       "      <td>https://pbs.twimg.com/media/CT4udn0WwAA0aMy.jpg</td>\n",
       "      <td>1</td>\n",
       "      <td>Welsh_springer_spaniel</td>\n",
       "      <td>0.465074</td>\n",
       "      <td>True</td>\n",
       "      <td>collie</td>\n",
       "      <td>0.156665</td>\n",
       "      <td>True</td>\n",
       "      <td>Shetland_sheepdog</td>\n",
       "      <td>0.061428</td>\n",
       "      <td>True</td>\n",
       "    </tr>\n",
       "    <tr>\n",
       "      <th>1</th>\n",
       "      <td>666029285002620928</td>\n",
       "      <td>https://pbs.twimg.com/media/CT42GRgUYAA5iDo.jpg</td>\n",
       "      <td>1</td>\n",
       "      <td>redbone</td>\n",
       "      <td>0.506826</td>\n",
       "      <td>True</td>\n",
       "      <td>miniature_pinscher</td>\n",
       "      <td>0.074192</td>\n",
       "      <td>True</td>\n",
       "      <td>Rhodesian_ridgeback</td>\n",
       "      <td>0.072010</td>\n",
       "      <td>True</td>\n",
       "    </tr>\n",
       "  </tbody>\n",
       "</table>\n",
       "</div>"
      ],
      "text/plain": [
       "             tweet_id                                          jpg_url  \\\n",
       "0  666020888022790149  https://pbs.twimg.com/media/CT4udn0WwAA0aMy.jpg   \n",
       "1  666029285002620928  https://pbs.twimg.com/media/CT42GRgUYAA5iDo.jpg   \n",
       "\n",
       "   img_num                      p1   p1_conf  p1_dog                  p2  \\\n",
       "0        1  Welsh_springer_spaniel  0.465074    True              collie   \n",
       "1        1                 redbone  0.506826    True  miniature_pinscher   \n",
       "\n",
       "    p2_conf  p2_dog                   p3   p3_conf  p3_dog  \n",
       "0  0.156665    True    Shetland_sheepdog  0.061428    True  \n",
       "1  0.074192    True  Rhodesian_ridgeback  0.072010    True  "
      ]
     },
     "execution_count": 12,
     "metadata": {},
     "output_type": "execute_result"
    }
   ],
   "source": [
    "df2.head(2)"
   ]
  },
  {
   "cell_type": "code",
   "execution_count": 13,
   "id": "f727a1b8-3fe7-404c-ad24-a01993557504",
   "metadata": {},
   "outputs": [
    {
     "data": {
      "text/html": [
       "<div>\n",
       "<style scoped>\n",
       "    .dataframe tbody tr th:only-of-type {\n",
       "        vertical-align: middle;\n",
       "    }\n",
       "\n",
       "    .dataframe tbody tr th {\n",
       "        vertical-align: top;\n",
       "    }\n",
       "\n",
       "    .dataframe thead th {\n",
       "        text-align: right;\n",
       "    }\n",
       "</style>\n",
       "<table border=\"1\" class=\"dataframe\">\n",
       "  <thead>\n",
       "    <tr style=\"text-align: right;\">\n",
       "      <th></th>\n",
       "      <th>tweet_id</th>\n",
       "      <th>retweet_count</th>\n",
       "      <th>favorite_count</th>\n",
       "      <th>followers_count</th>\n",
       "      <th>retweeted_status</th>\n",
       "      <th>url</th>\n",
       "    </tr>\n",
       "  </thead>\n",
       "  <tbody>\n",
       "    <tr>\n",
       "      <th>0</th>\n",
       "      <td>892420643555336193</td>\n",
       "      <td>7237</td>\n",
       "      <td>34675</td>\n",
       "      <td>9001806</td>\n",
       "      <td>Original tweet</td>\n",
       "      <td>https://t.co/MgUWQ76dJU</td>\n",
       "    </tr>\n",
       "    <tr>\n",
       "      <th>1</th>\n",
       "      <td>892177421306343426</td>\n",
       "      <td>5420</td>\n",
       "      <td>30046</td>\n",
       "      <td>9001806</td>\n",
       "      <td>Original tweet</td>\n",
       "      <td>https://t.co/aQFSeaCu9L</td>\n",
       "    </tr>\n",
       "  </tbody>\n",
       "</table>\n",
       "</div>"
      ],
      "text/plain": [
       "             tweet_id retweet_count favorite_count followers_count  \\\n",
       "0  892420643555336193          7237          34675         9001806   \n",
       "1  892177421306343426          5420          30046         9001806   \n",
       "\n",
       "  retweeted_status                      url  \n",
       "0   Original tweet  https://t.co/MgUWQ76dJU  \n",
       "1   Original tweet  https://t.co/aQFSeaCu9L  "
      ]
     },
     "execution_count": 13,
     "metadata": {},
     "output_type": "execute_result"
    }
   ],
   "source": [
    "df3.head(2)"
   ]
  },
  {
   "cell_type": "markdown",
   "id": "2dc8e37d-c3e5-4fd7-81d3-f477e2838c99",
   "metadata": {},
   "source": [
    "### Null values"
   ]
  },
  {
   "cell_type": "code",
   "execution_count": 14,
   "id": "b5400626-b49a-4368-8f84-5f2bcc9a9f81",
   "metadata": {},
   "outputs": [
    {
     "name": "stdout",
     "output_type": "stream",
     "text": [
      "<class 'pandas.core.frame.DataFrame'>\n",
      "RangeIndex: 2356 entries, 0 to 2355\n",
      "Data columns (total 17 columns):\n",
      " #   Column                      Non-Null Count  Dtype  \n",
      "---  ------                      --------------  -----  \n",
      " 0   tweet_id                    2356 non-null   int64  \n",
      " 1   in_reply_to_status_id       78 non-null     float64\n",
      " 2   in_reply_to_user_id         78 non-null     float64\n",
      " 3   timestamp                   2356 non-null   object \n",
      " 4   source                      2356 non-null   object \n",
      " 5   text                        2356 non-null   object \n",
      " 6   retweeted_status_id         181 non-null    float64\n",
      " 7   retweeted_status_user_id    181 non-null    float64\n",
      " 8   retweeted_status_timestamp  181 non-null    object \n",
      " 9   expanded_urls               2297 non-null   object \n",
      " 10  rating_numerator            2356 non-null   int64  \n",
      " 11  rating_denominator          2356 non-null   int64  \n",
      " 12  name                        2356 non-null   object \n",
      " 13  doggo                       2356 non-null   object \n",
      " 14  floofer                     2356 non-null   object \n",
      " 15  pupper                      2356 non-null   object \n",
      " 16  puppo                       2356 non-null   object \n",
      "dtypes: float64(4), int64(3), object(10)\n",
      "memory usage: 313.0+ KB\n"
     ]
    }
   ],
   "source": [
    "df1.info()"
   ]
  },
  {
   "cell_type": "code",
   "execution_count": 15,
   "id": "aaf88679-8bfa-42a6-9680-70ee83aa7767",
   "metadata": {},
   "outputs": [
    {
     "name": "stdout",
     "output_type": "stream",
     "text": [
      "<class 'pandas.core.frame.DataFrame'>\n",
      "RangeIndex: 2075 entries, 0 to 2074\n",
      "Data columns (total 12 columns):\n",
      " #   Column    Non-Null Count  Dtype  \n",
      "---  ------    --------------  -----  \n",
      " 0   tweet_id  2075 non-null   int64  \n",
      " 1   jpg_url   2075 non-null   object \n",
      " 2   img_num   2075 non-null   int64  \n",
      " 3   p1        2075 non-null   object \n",
      " 4   p1_conf   2075 non-null   float64\n",
      " 5   p1_dog    2075 non-null   bool   \n",
      " 6   p2        2075 non-null   object \n",
      " 7   p2_conf   2075 non-null   float64\n",
      " 8   p2_dog    2075 non-null   bool   \n",
      " 9   p3        2075 non-null   object \n",
      " 10  p3_conf   2075 non-null   float64\n",
      " 11  p3_dog    2075 non-null   bool   \n",
      "dtypes: bool(3), float64(3), int64(2), object(4)\n",
      "memory usage: 152.1+ KB\n"
     ]
    }
   ],
   "source": [
    "df2.info()"
   ]
  },
  {
   "cell_type": "code",
   "execution_count": 16,
   "id": "e6ce05c1-8142-4846-9333-02a430a33e8c",
   "metadata": {},
   "outputs": [
    {
     "name": "stdout",
     "output_type": "stream",
     "text": [
      "<class 'pandas.core.frame.DataFrame'>\n",
      "RangeIndex: 2328 entries, 0 to 2327\n",
      "Data columns (total 6 columns):\n",
      " #   Column            Non-Null Count  Dtype \n",
      "---  ------            --------------  ----- \n",
      " 0   tweet_id          2328 non-null   object\n",
      " 1   retweet_count     2328 non-null   object\n",
      " 2   favorite_count    2328 non-null   object\n",
      " 3   followers_count   2328 non-null   object\n",
      " 4   retweeted_status  2328 non-null   object\n",
      " 5   url               2328 non-null   object\n",
      "dtypes: object(6)\n",
      "memory usage: 109.2+ KB\n"
     ]
    }
   ],
   "source": [
    "df3.info()"
   ]
  },
  {
   "cell_type": "markdown",
   "id": "ef72feee-506b-4f6c-80cb-11383c308d96",
   "metadata": {},
   "source": [
    "---> We can see that only df1 has null values, so we have to make an analysis"
   ]
  },
  {
   "cell_type": "markdown",
   "id": "7e28f0a3-2784-4b36-9b14-297f18309c79",
   "metadata": {},
   "source": [
    "### Duplicates"
   ]
  },
  {
   "cell_type": "code",
   "execution_count": 17,
   "id": "61ff0e69-cb93-4f47-83e2-25cdb5ca6c66",
   "metadata": {},
   "outputs": [
    {
     "data": {
      "text/plain": [
       "(0, 17)"
      ]
     },
     "execution_count": 17,
     "metadata": {},
     "output_type": "execute_result"
    }
   ],
   "source": [
    "df1[df1.duplicated()].shape"
   ]
  },
  {
   "cell_type": "code",
   "execution_count": 18,
   "id": "e778ef38-0c19-49fe-9563-86b357169667",
   "metadata": {},
   "outputs": [
    {
     "data": {
      "text/plain": [
       "(0, 12)"
      ]
     },
     "execution_count": 18,
     "metadata": {},
     "output_type": "execute_result"
    }
   ],
   "source": [
    "df2[df2.duplicated()].shape"
   ]
  },
  {
   "cell_type": "code",
   "execution_count": 19,
   "id": "56cf2897-0268-456b-a7fe-30936ad8cc7b",
   "metadata": {},
   "outputs": [
    {
     "data": {
      "text/plain": [
       "(0, 6)"
      ]
     },
     "execution_count": 19,
     "metadata": {},
     "output_type": "execute_result"
    }
   ],
   "source": [
    "df3[df3.duplicated()].shape"
   ]
  },
  {
   "cell_type": "markdown",
   "id": "b49cda5b-0cf9-4259-8816-48079a44a2af",
   "metadata": {},
   "source": [
    "### Statistical description"
   ]
  },
  {
   "cell_type": "code",
   "execution_count": 20,
   "id": "d9c8e356-713e-475f-b599-0984be13509d",
   "metadata": {},
   "outputs": [
    {
     "data": {
      "text/html": [
       "<div>\n",
       "<style scoped>\n",
       "    .dataframe tbody tr th:only-of-type {\n",
       "        vertical-align: middle;\n",
       "    }\n",
       "\n",
       "    .dataframe tbody tr th {\n",
       "        vertical-align: top;\n",
       "    }\n",
       "\n",
       "    .dataframe thead th {\n",
       "        text-align: right;\n",
       "    }\n",
       "</style>\n",
       "<table border=\"1\" class=\"dataframe\">\n",
       "  <thead>\n",
       "    <tr style=\"text-align: right;\">\n",
       "      <th></th>\n",
       "      <th>tweet_id</th>\n",
       "      <th>in_reply_to_status_id</th>\n",
       "      <th>in_reply_to_user_id</th>\n",
       "      <th>retweeted_status_id</th>\n",
       "      <th>retweeted_status_user_id</th>\n",
       "      <th>rating_numerator</th>\n",
       "      <th>rating_denominator</th>\n",
       "    </tr>\n",
       "  </thead>\n",
       "  <tbody>\n",
       "    <tr>\n",
       "      <th>count</th>\n",
       "      <td>2.356000e+03</td>\n",
       "      <td>7.800000e+01</td>\n",
       "      <td>7.800000e+01</td>\n",
       "      <td>1.810000e+02</td>\n",
       "      <td>1.810000e+02</td>\n",
       "      <td>2356.000000</td>\n",
       "      <td>2356.000000</td>\n",
       "    </tr>\n",
       "    <tr>\n",
       "      <th>mean</th>\n",
       "      <td>7.427716e+17</td>\n",
       "      <td>7.455079e+17</td>\n",
       "      <td>2.014171e+16</td>\n",
       "      <td>7.720400e+17</td>\n",
       "      <td>1.241698e+16</td>\n",
       "      <td>13.126486</td>\n",
       "      <td>10.455433</td>\n",
       "    </tr>\n",
       "    <tr>\n",
       "      <th>std</th>\n",
       "      <td>6.856705e+16</td>\n",
       "      <td>7.582492e+16</td>\n",
       "      <td>1.252797e+17</td>\n",
       "      <td>6.236928e+16</td>\n",
       "      <td>9.599254e+16</td>\n",
       "      <td>45.876648</td>\n",
       "      <td>6.745237</td>\n",
       "    </tr>\n",
       "    <tr>\n",
       "      <th>min</th>\n",
       "      <td>6.660209e+17</td>\n",
       "      <td>6.658147e+17</td>\n",
       "      <td>1.185634e+07</td>\n",
       "      <td>6.661041e+17</td>\n",
       "      <td>7.832140e+05</td>\n",
       "      <td>0.000000</td>\n",
       "      <td>0.000000</td>\n",
       "    </tr>\n",
       "    <tr>\n",
       "      <th>25%</th>\n",
       "      <td>6.783989e+17</td>\n",
       "      <td>6.757419e+17</td>\n",
       "      <td>3.086374e+08</td>\n",
       "      <td>7.186315e+17</td>\n",
       "      <td>4.196984e+09</td>\n",
       "      <td>10.000000</td>\n",
       "      <td>10.000000</td>\n",
       "    </tr>\n",
       "    <tr>\n",
       "      <th>50%</th>\n",
       "      <td>7.196279e+17</td>\n",
       "      <td>7.038708e+17</td>\n",
       "      <td>4.196984e+09</td>\n",
       "      <td>7.804657e+17</td>\n",
       "      <td>4.196984e+09</td>\n",
       "      <td>11.000000</td>\n",
       "      <td>10.000000</td>\n",
       "    </tr>\n",
       "    <tr>\n",
       "      <th>75%</th>\n",
       "      <td>7.993373e+17</td>\n",
       "      <td>8.257804e+17</td>\n",
       "      <td>4.196984e+09</td>\n",
       "      <td>8.203146e+17</td>\n",
       "      <td>4.196984e+09</td>\n",
       "      <td>12.000000</td>\n",
       "      <td>10.000000</td>\n",
       "    </tr>\n",
       "    <tr>\n",
       "      <th>max</th>\n",
       "      <td>8.924206e+17</td>\n",
       "      <td>8.862664e+17</td>\n",
       "      <td>8.405479e+17</td>\n",
       "      <td>8.874740e+17</td>\n",
       "      <td>7.874618e+17</td>\n",
       "      <td>1776.000000</td>\n",
       "      <td>170.000000</td>\n",
       "    </tr>\n",
       "  </tbody>\n",
       "</table>\n",
       "</div>"
      ],
      "text/plain": [
       "           tweet_id  in_reply_to_status_id  in_reply_to_user_id  \\\n",
       "count  2.356000e+03           7.800000e+01         7.800000e+01   \n",
       "mean   7.427716e+17           7.455079e+17         2.014171e+16   \n",
       "std    6.856705e+16           7.582492e+16         1.252797e+17   \n",
       "min    6.660209e+17           6.658147e+17         1.185634e+07   \n",
       "25%    6.783989e+17           6.757419e+17         3.086374e+08   \n",
       "50%    7.196279e+17           7.038708e+17         4.196984e+09   \n",
       "75%    7.993373e+17           8.257804e+17         4.196984e+09   \n",
       "max    8.924206e+17           8.862664e+17         8.405479e+17   \n",
       "\n",
       "       retweeted_status_id  retweeted_status_user_id  rating_numerator  \\\n",
       "count         1.810000e+02              1.810000e+02       2356.000000   \n",
       "mean          7.720400e+17              1.241698e+16         13.126486   \n",
       "std           6.236928e+16              9.599254e+16         45.876648   \n",
       "min           6.661041e+17              7.832140e+05          0.000000   \n",
       "25%           7.186315e+17              4.196984e+09         10.000000   \n",
       "50%           7.804657e+17              4.196984e+09         11.000000   \n",
       "75%           8.203146e+17              4.196984e+09         12.000000   \n",
       "max           8.874740e+17              7.874618e+17       1776.000000   \n",
       "\n",
       "       rating_denominator  \n",
       "count         2356.000000  \n",
       "mean            10.455433  \n",
       "std              6.745237  \n",
       "min              0.000000  \n",
       "25%             10.000000  \n",
       "50%             10.000000  \n",
       "75%             10.000000  \n",
       "max            170.000000  "
      ]
     },
     "execution_count": 20,
     "metadata": {},
     "output_type": "execute_result"
    }
   ],
   "source": [
    "df1.describe()"
   ]
  },
  {
   "cell_type": "code",
   "execution_count": 21,
   "id": "1669a60d-6cc1-4fb5-9312-ac3fe781a1c3",
   "metadata": {},
   "outputs": [
    {
     "data": {
      "text/html": [
       "<div>\n",
       "<style scoped>\n",
       "    .dataframe tbody tr th:only-of-type {\n",
       "        vertical-align: middle;\n",
       "    }\n",
       "\n",
       "    .dataframe tbody tr th {\n",
       "        vertical-align: top;\n",
       "    }\n",
       "\n",
       "    .dataframe thead th {\n",
       "        text-align: right;\n",
       "    }\n",
       "</style>\n",
       "<table border=\"1\" class=\"dataframe\">\n",
       "  <thead>\n",
       "    <tr style=\"text-align: right;\">\n",
       "      <th></th>\n",
       "      <th>tweet_id</th>\n",
       "      <th>img_num</th>\n",
       "      <th>p1_conf</th>\n",
       "      <th>p2_conf</th>\n",
       "      <th>p3_conf</th>\n",
       "    </tr>\n",
       "  </thead>\n",
       "  <tbody>\n",
       "    <tr>\n",
       "      <th>count</th>\n",
       "      <td>2.075000e+03</td>\n",
       "      <td>2075.000000</td>\n",
       "      <td>2075.000000</td>\n",
       "      <td>2.075000e+03</td>\n",
       "      <td>2.075000e+03</td>\n",
       "    </tr>\n",
       "    <tr>\n",
       "      <th>mean</th>\n",
       "      <td>7.384514e+17</td>\n",
       "      <td>1.203855</td>\n",
       "      <td>0.594548</td>\n",
       "      <td>1.345886e-01</td>\n",
       "      <td>6.032417e-02</td>\n",
       "    </tr>\n",
       "    <tr>\n",
       "      <th>std</th>\n",
       "      <td>6.785203e+16</td>\n",
       "      <td>0.561875</td>\n",
       "      <td>0.271174</td>\n",
       "      <td>1.006657e-01</td>\n",
       "      <td>5.090593e-02</td>\n",
       "    </tr>\n",
       "    <tr>\n",
       "      <th>min</th>\n",
       "      <td>6.660209e+17</td>\n",
       "      <td>1.000000</td>\n",
       "      <td>0.044333</td>\n",
       "      <td>1.011300e-08</td>\n",
       "      <td>1.740170e-10</td>\n",
       "    </tr>\n",
       "    <tr>\n",
       "      <th>25%</th>\n",
       "      <td>6.764835e+17</td>\n",
       "      <td>1.000000</td>\n",
       "      <td>0.364412</td>\n",
       "      <td>5.388625e-02</td>\n",
       "      <td>1.622240e-02</td>\n",
       "    </tr>\n",
       "    <tr>\n",
       "      <th>50%</th>\n",
       "      <td>7.119988e+17</td>\n",
       "      <td>1.000000</td>\n",
       "      <td>0.588230</td>\n",
       "      <td>1.181810e-01</td>\n",
       "      <td>4.944380e-02</td>\n",
       "    </tr>\n",
       "    <tr>\n",
       "      <th>75%</th>\n",
       "      <td>7.932034e+17</td>\n",
       "      <td>1.000000</td>\n",
       "      <td>0.843855</td>\n",
       "      <td>1.955655e-01</td>\n",
       "      <td>9.180755e-02</td>\n",
       "    </tr>\n",
       "    <tr>\n",
       "      <th>max</th>\n",
       "      <td>8.924206e+17</td>\n",
       "      <td>4.000000</td>\n",
       "      <td>1.000000</td>\n",
       "      <td>4.880140e-01</td>\n",
       "      <td>2.734190e-01</td>\n",
       "    </tr>\n",
       "  </tbody>\n",
       "</table>\n",
       "</div>"
      ],
      "text/plain": [
       "           tweet_id      img_num      p1_conf       p2_conf       p3_conf\n",
       "count  2.075000e+03  2075.000000  2075.000000  2.075000e+03  2.075000e+03\n",
       "mean   7.384514e+17     1.203855     0.594548  1.345886e-01  6.032417e-02\n",
       "std    6.785203e+16     0.561875     0.271174  1.006657e-01  5.090593e-02\n",
       "min    6.660209e+17     1.000000     0.044333  1.011300e-08  1.740170e-10\n",
       "25%    6.764835e+17     1.000000     0.364412  5.388625e-02  1.622240e-02\n",
       "50%    7.119988e+17     1.000000     0.588230  1.181810e-01  4.944380e-02\n",
       "75%    7.932034e+17     1.000000     0.843855  1.955655e-01  9.180755e-02\n",
       "max    8.924206e+17     4.000000     1.000000  4.880140e-01  2.734190e-01"
      ]
     },
     "execution_count": 21,
     "metadata": {},
     "output_type": "execute_result"
    }
   ],
   "source": [
    "df2.describe()"
   ]
  },
  {
   "cell_type": "code",
   "execution_count": 22,
   "id": "f94707b8-6b17-4078-8615-eefeb2a84008",
   "metadata": {},
   "outputs": [
    {
     "data": {
      "text/html": [
       "<div>\n",
       "<style scoped>\n",
       "    .dataframe tbody tr th:only-of-type {\n",
       "        vertical-align: middle;\n",
       "    }\n",
       "\n",
       "    .dataframe tbody tr th {\n",
       "        vertical-align: top;\n",
       "    }\n",
       "\n",
       "    .dataframe thead th {\n",
       "        text-align: right;\n",
       "    }\n",
       "</style>\n",
       "<table border=\"1\" class=\"dataframe\">\n",
       "  <thead>\n",
       "    <tr style=\"text-align: right;\">\n",
       "      <th></th>\n",
       "      <th>tweet_id</th>\n",
       "      <th>retweet_count</th>\n",
       "      <th>favorite_count</th>\n",
       "      <th>followers_count</th>\n",
       "      <th>retweeted_status</th>\n",
       "      <th>url</th>\n",
       "    </tr>\n",
       "  </thead>\n",
       "  <tbody>\n",
       "    <tr>\n",
       "      <th>count</th>\n",
       "      <td>2328</td>\n",
       "      <td>2328</td>\n",
       "      <td>2328</td>\n",
       "      <td>2328</td>\n",
       "      <td>2328</td>\n",
       "      <td>2328</td>\n",
       "    </tr>\n",
       "    <tr>\n",
       "      <th>unique</th>\n",
       "      <td>2328</td>\n",
       "      <td>1670</td>\n",
       "      <td>1958</td>\n",
       "      <td>36</td>\n",
       "      <td>2</td>\n",
       "      <td>2132</td>\n",
       "    </tr>\n",
       "    <tr>\n",
       "      <th>top</th>\n",
       "      <td>891815181378084864</td>\n",
       "      <td>494</td>\n",
       "      <td>0</td>\n",
       "      <td>9001814</td>\n",
       "      <td>Original tweet</td>\n",
       "      <td>Retweet</td>\n",
       "    </tr>\n",
       "    <tr>\n",
       "      <th>freq</th>\n",
       "      <td>1</td>\n",
       "      <td>6</td>\n",
       "      <td>161</td>\n",
       "      <td>295</td>\n",
       "      <td>2167</td>\n",
       "      <td>161</td>\n",
       "    </tr>\n",
       "  </tbody>\n",
       "</table>\n",
       "</div>"
      ],
      "text/plain": [
       "                  tweet_id  retweet_count  favorite_count  followers_count  \\\n",
       "count                 2328           2328            2328             2328   \n",
       "unique                2328           1670            1958               36   \n",
       "top     891815181378084864            494               0          9001814   \n",
       "freq                     1              6             161              295   \n",
       "\n",
       "       retweeted_status      url  \n",
       "count              2328     2328  \n",
       "unique                2     2132  \n",
       "top      Original tweet  Retweet  \n",
       "freq               2167      161  "
      ]
     },
     "execution_count": 22,
     "metadata": {},
     "output_type": "execute_result"
    }
   ],
   "source": [
    "df3.describe()"
   ]
  },
  {
   "cell_type": "markdown",
   "id": "9903db4c-073c-4c48-807d-21fb631ba5f0",
   "metadata": {},
   "source": [
    "### Unique values"
   ]
  },
  {
   "cell_type": "code",
   "execution_count": 23,
   "id": "ff20c136-2fcc-47f2-9715-0ba3292b96b3",
   "metadata": {},
   "outputs": [
    {
     "data": {
      "text/plain": [
       "tweet_id                      2356\n",
       "in_reply_to_status_id           77\n",
       "in_reply_to_user_id             31\n",
       "timestamp                     2356\n",
       "source                           4\n",
       "text                          2356\n",
       "retweeted_status_id            181\n",
       "retweeted_status_user_id        25\n",
       "retweeted_status_timestamp     181\n",
       "expanded_urls                 2218\n",
       "rating_numerator                40\n",
       "rating_denominator              18\n",
       "name                           957\n",
       "doggo                            2\n",
       "floofer                          2\n",
       "pupper                           2\n",
       "puppo                            2\n",
       "dtype: int64"
      ]
     },
     "execution_count": 23,
     "metadata": {},
     "output_type": "execute_result"
    }
   ],
   "source": [
    "df1.nunique()"
   ]
  },
  {
   "cell_type": "code",
   "execution_count": 24,
   "id": "7eafc8a7-423f-4be9-9aba-27ca2f851e00",
   "metadata": {},
   "outputs": [
    {
     "data": {
      "text/plain": [
       "tweet_id    2075\n",
       "jpg_url     2009\n",
       "img_num        4\n",
       "p1           378\n",
       "p1_conf     2006\n",
       "p1_dog         2\n",
       "p2           405\n",
       "p2_conf     2004\n",
       "p2_dog         2\n",
       "p3           408\n",
       "p3_conf     2006\n",
       "p3_dog         2\n",
       "dtype: int64"
      ]
     },
     "execution_count": 24,
     "metadata": {},
     "output_type": "execute_result"
    }
   ],
   "source": [
    "df2.nunique()"
   ]
  },
  {
   "cell_type": "code",
   "execution_count": 25,
   "id": "6ebf339e-fe74-4e21-ba03-aa5b9605b35e",
   "metadata": {},
   "outputs": [
    {
     "data": {
      "text/plain": [
       "tweet_id            2328\n",
       "retweet_count       1670\n",
       "favorite_count      1958\n",
       "followers_count       36\n",
       "retweeted_status       2\n",
       "url                 2132\n",
       "dtype: int64"
      ]
     },
     "execution_count": 25,
     "metadata": {},
     "output_type": "execute_result"
    }
   ],
   "source": [
    "df3.nunique()"
   ]
  },
  {
   "cell_type": "code",
   "execution_count": 26,
   "id": "ad65fecd-79d2-41e3-af46-9a095877d5ad",
   "metadata": {},
   "outputs": [
    {
     "data": {
      "text/plain": [
       "None            745\n",
       "a                55\n",
       "Charlie          12\n",
       "Oliver           11\n",
       "Cooper           11\n",
       "               ... \n",
       "Kanu              1\n",
       "Stefan            1\n",
       "Hall              1\n",
       "Dunkin            1\n",
       "Cleopatricia      1\n",
       "Name: name, Length: 957, dtype: int64"
      ]
     },
     "execution_count": 26,
     "metadata": {},
     "output_type": "execute_result"
    }
   ],
   "source": [
    "df1.name.value_counts()"
   ]
  },
  {
   "cell_type": "code",
   "execution_count": 27,
   "id": "35307068-52a0-4c51-90e2-c0647ca91be4",
   "metadata": {},
   "outputs": [
    {
     "data": {
      "text/plain": [
       "None     2259\n",
       "doggo      97\n",
       "Name: doggo, dtype: int64"
      ]
     },
     "execution_count": 27,
     "metadata": {},
     "output_type": "execute_result"
    }
   ],
   "source": [
    "df1.doggo.value_counts()"
   ]
  },
  {
   "cell_type": "code",
   "execution_count": 28,
   "id": "81910a66-132d-4d1f-9af0-0b720340c2db",
   "metadata": {},
   "outputs": [
    {
     "data": {
      "text/plain": [
       "None       2346\n",
       "floofer      10\n",
       "Name: floofer, dtype: int64"
      ]
     },
     "execution_count": 28,
     "metadata": {},
     "output_type": "execute_result"
    }
   ],
   "source": [
    "df1.floofer.value_counts()"
   ]
  },
  {
   "cell_type": "code",
   "execution_count": 29,
   "id": "834ee5a3-188f-4e08-ba4a-9f8ec5b3007c",
   "metadata": {},
   "outputs": [
    {
     "data": {
      "text/plain": [
       "None      2099\n",
       "pupper     257\n",
       "Name: pupper, dtype: int64"
      ]
     },
     "execution_count": 29,
     "metadata": {},
     "output_type": "execute_result"
    }
   ],
   "source": [
    "df1.pupper.value_counts()"
   ]
  },
  {
   "cell_type": "code",
   "execution_count": 30,
   "id": "6bbf95ef-776d-468e-bc7a-3d6adb363a22",
   "metadata": {},
   "outputs": [
    {
     "data": {
      "text/plain": [
       "None     2326\n",
       "puppo      30\n",
       "Name: puppo, dtype: int64"
      ]
     },
     "execution_count": 30,
     "metadata": {},
     "output_type": "execute_result"
    }
   ],
   "source": [
    "df1.puppo.value_counts()"
   ]
  },
  {
   "cell_type": "code",
   "execution_count": 31,
   "id": "9d9411bf-3cf3-43b7-bfd8-6322133461cf",
   "metadata": {
    "tags": []
   },
   "outputs": [
    {
     "data": {
      "text/plain": [
       "golden_retriever      150\n",
       "Labrador_retriever    100\n",
       "Pembroke               89\n",
       "Chihuahua              83\n",
       "pug                    57\n",
       "                     ... \n",
       "killer_whale            1\n",
       "trombone                1\n",
       "bib                     1\n",
       "dining_table            1\n",
       "bow                     1\n",
       "Name: p1, Length: 378, dtype: int64"
      ]
     },
     "execution_count": 31,
     "metadata": {},
     "output_type": "execute_result"
    }
   ],
   "source": [
    "df2.p1.value_counts()"
   ]
  },
  {
   "cell_type": "code",
   "execution_count": 32,
   "id": "08f2c1b3-b90f-4ce3-8ad1-03de321ecc3d",
   "metadata": {},
   "outputs": [
    {
     "data": {
      "text/plain": [
       "Original tweet    2167\n",
       "Retweet            161\n",
       "Name: retweeted_status, dtype: int64"
      ]
     },
     "execution_count": 32,
     "metadata": {},
     "output_type": "execute_result"
    }
   ],
   "source": [
    "df3.retweeted_status.value_counts()"
   ]
  },
  {
   "cell_type": "code",
   "execution_count": null,
   "id": "8d1af1a4-82ed-432d-b5b9-57ad36f9b23f",
   "metadata": {},
   "outputs": [],
   "source": []
  },
  {
   "cell_type": "markdown",
   "id": "003c5abd-1a10-48dc-8b87-4ae90ff1a2ea",
   "metadata": {},
   "source": [
    "---\n",
    "After this analysis we can say:\n",
    " 1) **df1 (Archive data)**\n",
    "  - **Quality Issue:**\n",
    "      1) **Null values** in [in_reply_to_status_id, in_reply_to_user_id, retweeted_status_id, retweeted_status_user_id, retweeted_status_timestamp, expanded_urls]\n",
    "      2) **tweet_id** column has *int* type, but the other \"id\" columns have float type, so to be consistent we have to convert all \"id\" columns to *float* type.\n",
    "      3) **timestamp** and **retweeted_status_timestamp** columns have *object* type, but that columns must have *timestamp* type.\n",
    "      4) **name** column has 745 rows with \"None\" value and 55 values with \"a\" value.\n",
    "  - **Tidiness Issue:**\n",
    "      1) One variable is spread across four different columns (**doggo**, **floofer**, **pupper** and **puppo** columns). These four columns should be combined into a single column as this is one variable that identify stage of dog.\n",
    " 2) **df2 (Image data)**\n",
    "  - **Quality Issue:**\n",
    "      1) **p1**, **p2** and **p3** have invalid data, there are rows with cases such as laptop, restaurant, basketball, tricycle, etc.\n",
    "      2) **p1_conf**, **p2_conf** and **p3_conf** have lower values (near to zero), so this indicates that there are predictions made with underestimation.\n",
    "      3) In order to merge with the other dataframes, we have to change the **tweet_id** column's type to *float*.\n",
    " 3) **df3 (tweet's retweet info)**\n",
    "  - **Quality Issue:**\n",
    "      1) There are 161 retweets.\n",
    "      2) In order to merge with the other dataframes, we have to change the **tweet_id** column's type to *float*.\n",
    "  - **Tidiness Issue:**\n",
    "      1) We have to merge the three datasets."
   ]
  },
  {
   "cell_type": "markdown",
   "id": "f2062e12-81ff-41e4-8124-0ae12cb5d182",
   "metadata": {},
   "source": [
    "# 4. Cleaning Data"
   ]
  },
  {
   "cell_type": "markdown",
   "id": "8fc68df8-8277-4a37-a230-2a99c11aff91",
   "metadata": {},
   "source": [
    "## 4.1 Copying of the original pieces of data"
   ]
  },
  {
   "cell_type": "code",
   "execution_count": 33,
   "id": "6c9267d5-376a-4a24-928b-794c6765efcf",
   "metadata": {},
   "outputs": [],
   "source": [
    "archive_data = df1.copy()\n",
    "image_data = df2.copy()\n",
    "tweets_info_data = df3.copy()"
   ]
  },
  {
   "cell_type": "markdown",
   "id": "0a7c11b4-4e5d-4084-9059-f7f00bdf68d2",
   "metadata": {},
   "source": [
    "## 4.2 Merge the three datasets"
   ]
  },
  {
   "cell_type": "markdown",
   "id": "c8cca907-7c06-41eb-9951-547d500701e6",
   "metadata": {},
   "source": [
    "### 4.2.1 Define\n",
    " - Merge with *concat* method"
   ]
  },
  {
   "cell_type": "markdown",
   "id": "3dcff2c2-68fc-484e-9d8b-466bd4b1ae40",
   "metadata": {},
   "source": [
    "### 4.2.2 Code"
   ]
  },
  {
   "cell_type": "code",
   "execution_count": 34,
   "id": "81e1d053-34e4-4100-98f7-dfc7e9afb6de",
   "metadata": {},
   "outputs": [],
   "source": [
    "df_merge = pd.concat([df1, df2, df3], join='outer', axis=1)"
   ]
  },
  {
   "cell_type": "markdown",
   "id": "a877471e-743e-47e1-8826-e293a44d8fcc",
   "metadata": {},
   "source": [
    "### 4.2.3 Test"
   ]
  },
  {
   "cell_type": "code",
   "execution_count": 35,
   "id": "21860a4c-eeaf-4042-a072-1dbe8aec418d",
   "metadata": {},
   "outputs": [
    {
     "data": {
      "text/plain": [
       "(2356, 35)"
      ]
     },
     "execution_count": 35,
     "metadata": {},
     "output_type": "execute_result"
    }
   ],
   "source": [
    "df_merge.shape"
   ]
  },
  {
   "cell_type": "code",
   "execution_count": 36,
   "id": "bd1971dc-7e4c-4384-b6e0-39aa8ef89782",
   "metadata": {},
   "outputs": [
    {
     "data": {
      "text/html": [
       "<div>\n",
       "<style scoped>\n",
       "    .dataframe tbody tr th:only-of-type {\n",
       "        vertical-align: middle;\n",
       "    }\n",
       "\n",
       "    .dataframe tbody tr th {\n",
       "        vertical-align: top;\n",
       "    }\n",
       "\n",
       "    .dataframe thead th {\n",
       "        text-align: right;\n",
       "    }\n",
       "</style>\n",
       "<table border=\"1\" class=\"dataframe\">\n",
       "  <thead>\n",
       "    <tr style=\"text-align: right;\">\n",
       "      <th></th>\n",
       "      <th>tweet_id</th>\n",
       "      <th>in_reply_to_status_id</th>\n",
       "      <th>in_reply_to_user_id</th>\n",
       "      <th>timestamp</th>\n",
       "      <th>source</th>\n",
       "      <th>text</th>\n",
       "      <th>retweeted_status_id</th>\n",
       "      <th>retweeted_status_user_id</th>\n",
       "      <th>retweeted_status_timestamp</th>\n",
       "      <th>expanded_urls</th>\n",
       "      <th>...</th>\n",
       "      <th>p2_dog</th>\n",
       "      <th>p3</th>\n",
       "      <th>p3_conf</th>\n",
       "      <th>p3_dog</th>\n",
       "      <th>tweet_id</th>\n",
       "      <th>retweet_count</th>\n",
       "      <th>favorite_count</th>\n",
       "      <th>followers_count</th>\n",
       "      <th>retweeted_status</th>\n",
       "      <th>url</th>\n",
       "    </tr>\n",
       "  </thead>\n",
       "  <tbody>\n",
       "    <tr>\n",
       "      <th>0</th>\n",
       "      <td>892420643555336193</td>\n",
       "      <td>NaN</td>\n",
       "      <td>NaN</td>\n",
       "      <td>2017-08-01 16:23:56 +0000</td>\n",
       "      <td>&lt;a href=\"http://twitter.com/download/iphone\" r...</td>\n",
       "      <td>This is Phineas. He's a mystical boy. Only eve...</td>\n",
       "      <td>NaN</td>\n",
       "      <td>NaN</td>\n",
       "      <td>NaN</td>\n",
       "      <td>https://twitter.com/dog_rates/status/892420643...</td>\n",
       "      <td>...</td>\n",
       "      <td>True</td>\n",
       "      <td>Shetland_sheepdog</td>\n",
       "      <td>0.061428</td>\n",
       "      <td>True</td>\n",
       "      <td>892420643555336193</td>\n",
       "      <td>7237</td>\n",
       "      <td>34675</td>\n",
       "      <td>9001806</td>\n",
       "      <td>Original tweet</td>\n",
       "      <td>https://t.co/MgUWQ76dJU</td>\n",
       "    </tr>\n",
       "    <tr>\n",
       "      <th>1</th>\n",
       "      <td>892177421306343426</td>\n",
       "      <td>NaN</td>\n",
       "      <td>NaN</td>\n",
       "      <td>2017-08-01 00:17:27 +0000</td>\n",
       "      <td>&lt;a href=\"http://twitter.com/download/iphone\" r...</td>\n",
       "      <td>This is Tilly. She's just checking pup on you....</td>\n",
       "      <td>NaN</td>\n",
       "      <td>NaN</td>\n",
       "      <td>NaN</td>\n",
       "      <td>https://twitter.com/dog_rates/status/892177421...</td>\n",
       "      <td>...</td>\n",
       "      <td>True</td>\n",
       "      <td>Rhodesian_ridgeback</td>\n",
       "      <td>0.072010</td>\n",
       "      <td>True</td>\n",
       "      <td>892177421306343426</td>\n",
       "      <td>5420</td>\n",
       "      <td>30046</td>\n",
       "      <td>9001806</td>\n",
       "      <td>Original tweet</td>\n",
       "      <td>https://t.co/aQFSeaCu9L</td>\n",
       "    </tr>\n",
       "  </tbody>\n",
       "</table>\n",
       "<p>2 rows × 35 columns</p>\n",
       "</div>"
      ],
      "text/plain": [
       "             tweet_id  in_reply_to_status_id  in_reply_to_user_id  \\\n",
       "0  892420643555336193                    NaN                  NaN   \n",
       "1  892177421306343426                    NaN                  NaN   \n",
       "\n",
       "                   timestamp  \\\n",
       "0  2017-08-01 16:23:56 +0000   \n",
       "1  2017-08-01 00:17:27 +0000   \n",
       "\n",
       "                                              source  \\\n",
       "0  <a href=\"http://twitter.com/download/iphone\" r...   \n",
       "1  <a href=\"http://twitter.com/download/iphone\" r...   \n",
       "\n",
       "                                                text  retweeted_status_id  \\\n",
       "0  This is Phineas. He's a mystical boy. Only eve...                  NaN   \n",
       "1  This is Tilly. She's just checking pup on you....                  NaN   \n",
       "\n",
       "   retweeted_status_user_id retweeted_status_timestamp  \\\n",
       "0                       NaN                        NaN   \n",
       "1                       NaN                        NaN   \n",
       "\n",
       "                                       expanded_urls  ...  p2_dog  \\\n",
       "0  https://twitter.com/dog_rates/status/892420643...  ...    True   \n",
       "1  https://twitter.com/dog_rates/status/892177421...  ...    True   \n",
       "\n",
       "                    p3   p3_conf p3_dog            tweet_id retweet_count  \\\n",
       "0    Shetland_sheepdog  0.061428   True  892420643555336193          7237   \n",
       "1  Rhodesian_ridgeback  0.072010   True  892177421306343426          5420   \n",
       "\n",
       "  favorite_count  followers_count retweeted_status                      url  \n",
       "0          34675          9001806   Original tweet  https://t.co/MgUWQ76dJU  \n",
       "1          30046          9001806   Original tweet  https://t.co/aQFSeaCu9L  \n",
       "\n",
       "[2 rows x 35 columns]"
      ]
     },
     "execution_count": 36,
     "metadata": {},
     "output_type": "execute_result"
    }
   ],
   "source": [
    "df_merge.head(2)"
   ]
  },
  {
   "cell_type": "markdown",
   "id": "e23fa588-a775-406e-b30b-17e14d6c4189",
   "metadata": {},
   "source": [
    "## 4.3 Duplicated columns"
   ]
  },
  {
   "cell_type": "markdown",
   "id": "81a93540-eb78-41c1-b868-ec57c579c71c",
   "metadata": {},
   "source": [
    "### 4.3.1 Define\n",
    " - *tweet_id* column appears three times due to the merge of dataframes, so we have to remove duplicated columns"
   ]
  },
  {
   "cell_type": "code",
   "execution_count": 37,
   "id": "4694e1ff-b3d0-4a27-93fe-e145a2987ea8",
   "metadata": {},
   "outputs": [
    {
     "data": {
      "text/plain": [
       "Index(['tweet_id', 'in_reply_to_status_id', 'in_reply_to_user_id', 'timestamp',\n",
       "       'source', 'text', 'retweeted_status_id', 'retweeted_status_user_id',\n",
       "       'retweeted_status_timestamp', 'expanded_urls', 'rating_numerator',\n",
       "       'rating_denominator', 'name', 'doggo', 'floofer', 'pupper', 'puppo',\n",
       "       'tweet_id', 'jpg_url', 'img_num', 'p1', 'p1_conf', 'p1_dog', 'p2',\n",
       "       'p2_conf', 'p2_dog', 'p3', 'p3_conf', 'p3_dog', 'tweet_id',\n",
       "       'retweet_count', 'favorite_count', 'followers_count',\n",
       "       'retweeted_status', 'url'],\n",
       "      dtype='object')"
      ]
     },
     "execution_count": 37,
     "metadata": {},
     "output_type": "execute_result"
    }
   ],
   "source": [
    "df_merge.columns"
   ]
  },
  {
   "cell_type": "markdown",
   "id": "1c240e88-a689-4fcb-9112-a99a98e82423",
   "metadata": {},
   "source": [
    "### 4.3.2 Code"
   ]
  },
  {
   "cell_type": "code",
   "execution_count": 38,
   "id": "519f7a56-2503-4208-b579-e7b5041a4c1b",
   "metadata": {},
   "outputs": [],
   "source": [
    "df_merge = df_merge.loc[:,~df_merge.columns.duplicated()]"
   ]
  },
  {
   "cell_type": "markdown",
   "id": "23afbe14-d7e0-48c9-9403-733a0c5cd784",
   "metadata": {},
   "source": [
    "### 4.3.3 Test"
   ]
  },
  {
   "cell_type": "code",
   "execution_count": 39,
   "id": "48e2c56b-ab12-4253-b84e-d2e4c01696b8",
   "metadata": {},
   "outputs": [
    {
     "data": {
      "text/plain": [
       "Index(['tweet_id', 'in_reply_to_status_id', 'in_reply_to_user_id', 'timestamp',\n",
       "       'source', 'text', 'retweeted_status_id', 'retweeted_status_user_id',\n",
       "       'retweeted_status_timestamp', 'expanded_urls', 'rating_numerator',\n",
       "       'rating_denominator', 'name', 'doggo', 'floofer', 'pupper', 'puppo',\n",
       "       'jpg_url', 'img_num', 'p1', 'p1_conf', 'p1_dog', 'p2', 'p2_conf',\n",
       "       'p2_dog', 'p3', 'p3_conf', 'p3_dog', 'retweet_count', 'favorite_count',\n",
       "       'followers_count', 'retweeted_status', 'url'],\n",
       "      dtype='object')"
      ]
     },
     "execution_count": 39,
     "metadata": {},
     "output_type": "execute_result"
    }
   ],
   "source": [
    "df_merge.columns"
   ]
  },
  {
   "cell_type": "code",
   "execution_count": 40,
   "id": "4f5f773a-04cc-4967-ada7-3f8e6f948d22",
   "metadata": {},
   "outputs": [
    {
     "data": {
      "text/html": [
       "<div>\n",
       "<style scoped>\n",
       "    .dataframe tbody tr th:only-of-type {\n",
       "        vertical-align: middle;\n",
       "    }\n",
       "\n",
       "    .dataframe tbody tr th {\n",
       "        vertical-align: top;\n",
       "    }\n",
       "\n",
       "    .dataframe thead th {\n",
       "        text-align: right;\n",
       "    }\n",
       "</style>\n",
       "<table border=\"1\" class=\"dataframe\">\n",
       "  <thead>\n",
       "    <tr style=\"text-align: right;\">\n",
       "      <th></th>\n",
       "      <th>tweet_id</th>\n",
       "      <th>in_reply_to_status_id</th>\n",
       "      <th>in_reply_to_user_id</th>\n",
       "      <th>timestamp</th>\n",
       "      <th>source</th>\n",
       "      <th>text</th>\n",
       "      <th>retweeted_status_id</th>\n",
       "      <th>retweeted_status_user_id</th>\n",
       "      <th>retweeted_status_timestamp</th>\n",
       "      <th>expanded_urls</th>\n",
       "      <th>...</th>\n",
       "      <th>p2_conf</th>\n",
       "      <th>p2_dog</th>\n",
       "      <th>p3</th>\n",
       "      <th>p3_conf</th>\n",
       "      <th>p3_dog</th>\n",
       "      <th>retweet_count</th>\n",
       "      <th>favorite_count</th>\n",
       "      <th>followers_count</th>\n",
       "      <th>retweeted_status</th>\n",
       "      <th>url</th>\n",
       "    </tr>\n",
       "  </thead>\n",
       "  <tbody>\n",
       "    <tr>\n",
       "      <th>0</th>\n",
       "      <td>892420643555336193</td>\n",
       "      <td>NaN</td>\n",
       "      <td>NaN</td>\n",
       "      <td>2017-08-01 16:23:56 +0000</td>\n",
       "      <td>&lt;a href=\"http://twitter.com/download/iphone\" r...</td>\n",
       "      <td>This is Phineas. He's a mystical boy. Only eve...</td>\n",
       "      <td>NaN</td>\n",
       "      <td>NaN</td>\n",
       "      <td>NaN</td>\n",
       "      <td>https://twitter.com/dog_rates/status/892420643...</td>\n",
       "      <td>...</td>\n",
       "      <td>0.156665</td>\n",
       "      <td>True</td>\n",
       "      <td>Shetland_sheepdog</td>\n",
       "      <td>0.061428</td>\n",
       "      <td>True</td>\n",
       "      <td>7237</td>\n",
       "      <td>34675</td>\n",
       "      <td>9001806</td>\n",
       "      <td>Original tweet</td>\n",
       "      <td>https://t.co/MgUWQ76dJU</td>\n",
       "    </tr>\n",
       "    <tr>\n",
       "      <th>1</th>\n",
       "      <td>892177421306343426</td>\n",
       "      <td>NaN</td>\n",
       "      <td>NaN</td>\n",
       "      <td>2017-08-01 00:17:27 +0000</td>\n",
       "      <td>&lt;a href=\"http://twitter.com/download/iphone\" r...</td>\n",
       "      <td>This is Tilly. She's just checking pup on you....</td>\n",
       "      <td>NaN</td>\n",
       "      <td>NaN</td>\n",
       "      <td>NaN</td>\n",
       "      <td>https://twitter.com/dog_rates/status/892177421...</td>\n",
       "      <td>...</td>\n",
       "      <td>0.074192</td>\n",
       "      <td>True</td>\n",
       "      <td>Rhodesian_ridgeback</td>\n",
       "      <td>0.072010</td>\n",
       "      <td>True</td>\n",
       "      <td>5420</td>\n",
       "      <td>30046</td>\n",
       "      <td>9001806</td>\n",
       "      <td>Original tweet</td>\n",
       "      <td>https://t.co/aQFSeaCu9L</td>\n",
       "    </tr>\n",
       "  </tbody>\n",
       "</table>\n",
       "<p>2 rows × 33 columns</p>\n",
       "</div>"
      ],
      "text/plain": [
       "             tweet_id  in_reply_to_status_id  in_reply_to_user_id  \\\n",
       "0  892420643555336193                    NaN                  NaN   \n",
       "1  892177421306343426                    NaN                  NaN   \n",
       "\n",
       "                   timestamp  \\\n",
       "0  2017-08-01 16:23:56 +0000   \n",
       "1  2017-08-01 00:17:27 +0000   \n",
       "\n",
       "                                              source  \\\n",
       "0  <a href=\"http://twitter.com/download/iphone\" r...   \n",
       "1  <a href=\"http://twitter.com/download/iphone\" r...   \n",
       "\n",
       "                                                text  retweeted_status_id  \\\n",
       "0  This is Phineas. He's a mystical boy. Only eve...                  NaN   \n",
       "1  This is Tilly. She's just checking pup on you....                  NaN   \n",
       "\n",
       "   retweeted_status_user_id retweeted_status_timestamp  \\\n",
       "0                       NaN                        NaN   \n",
       "1                       NaN                        NaN   \n",
       "\n",
       "                                       expanded_urls  ...   p2_conf  p2_dog  \\\n",
       "0  https://twitter.com/dog_rates/status/892420643...  ...  0.156665    True   \n",
       "1  https://twitter.com/dog_rates/status/892177421...  ...  0.074192    True   \n",
       "\n",
       "                    p3   p3_conf p3_dog retweet_count favorite_count  \\\n",
       "0    Shetland_sheepdog  0.061428   True          7237          34675   \n",
       "1  Rhodesian_ridgeback  0.072010   True          5420          30046   \n",
       "\n",
       "  followers_count  retweeted_status                      url  \n",
       "0         9001806    Original tweet  https://t.co/MgUWQ76dJU  \n",
       "1         9001806    Original tweet  https://t.co/aQFSeaCu9L  \n",
       "\n",
       "[2 rows x 33 columns]"
      ]
     },
     "execution_count": 40,
     "metadata": {},
     "output_type": "execute_result"
    }
   ],
   "source": [
    "df_merge.head(2)"
   ]
  },
  {
   "cell_type": "markdown",
   "id": "f2d924a4-5714-424a-8bde-41f08423733c",
   "metadata": {},
   "source": [
    "## 4.4 doggo, floofer, pupper, puppo columns"
   ]
  },
  {
   "cell_type": "markdown",
   "id": "6566889e-3c23-4e58-8802-45455f09ac92",
   "metadata": {},
   "source": [
    "### 4.4.1 Define\n",
    " - One variable is spread across four different columns (doggo, floofer, pupper and puppo columns). These four columns should be combined into a single column as this is one variable that identify stage of dog."
   ]
  },
  {
   "cell_type": "markdown",
   "id": "4d027348-a8fe-48c8-9e52-dcdac0694ccb",
   "metadata": {},
   "source": [
    "### 4.4.2 Code"
   ]
  },
  {
   "cell_type": "code",
   "execution_count": 41,
   "id": "81c5899c-0a37-446e-a962-958255ffedf8",
   "metadata": {},
   "outputs": [],
   "source": [
    "for col in ['doggo','floofer','pupper','puppo']:\n",
    "    df_merge[col] = df_merge[col].replace('None', '')"
   ]
  },
  {
   "cell_type": "code",
   "execution_count": 42,
   "id": "8be7187c-4bb7-43d3-a000-152f156b126a",
   "metadata": {},
   "outputs": [],
   "source": [
    "df_merge['stage'] = df_merge.doggo + df_merge.floofer + df_merge.pupper + df_merge.puppo"
   ]
  },
  {
   "cell_type": "code",
   "execution_count": 43,
   "id": "a2642e22-7aee-483a-85cf-39668fe3e9f1",
   "metadata": {},
   "outputs": [],
   "source": [
    "df_merge.loc[df_merge['stage'] == 'doggopupper', 'stage'] = 'doggo,pupper' \n",
    "df_merge.loc[df_merge['stage'] == 'doggopuppo', 'stage'] = 'doggo,puppo' \n",
    "df_merge.loc[df_merge['stage'] == 'doggofloofer', 'stage'] = 'doggo,floofer'"
   ]
  },
  {
   "cell_type": "code",
   "execution_count": 49,
   "id": "fdd97395-ec99-40e1-b17d-7050d27bf39c",
   "metadata": {},
   "outputs": [],
   "source": [
    "df_merge = df_merge.drop(['doggo', 'floofer', 'pupper', 'puppo'], axis=1)"
   ]
  },
  {
   "cell_type": "markdown",
   "id": "5985ab8f-07d3-4cdf-883e-5d92ce6cf43c",
   "metadata": {},
   "source": [
    "### 4.4.3 Test"
   ]
  },
  {
   "cell_type": "code",
   "execution_count": 50,
   "id": "102bfd86-e374-4c84-a33c-27c03158ab3c",
   "metadata": {},
   "outputs": [
    {
     "data": {
      "text/html": [
       "<div>\n",
       "<style scoped>\n",
       "    .dataframe tbody tr th:only-of-type {\n",
       "        vertical-align: middle;\n",
       "    }\n",
       "\n",
       "    .dataframe tbody tr th {\n",
       "        vertical-align: top;\n",
       "    }\n",
       "\n",
       "    .dataframe thead th {\n",
       "        text-align: right;\n",
       "    }\n",
       "</style>\n",
       "<table border=\"1\" class=\"dataframe\">\n",
       "  <thead>\n",
       "    <tr style=\"text-align: right;\">\n",
       "      <th></th>\n",
       "      <th>tweet_id</th>\n",
       "      <th>in_reply_to_status_id</th>\n",
       "      <th>in_reply_to_user_id</th>\n",
       "      <th>timestamp</th>\n",
       "      <th>source</th>\n",
       "      <th>text</th>\n",
       "      <th>retweeted_status_id</th>\n",
       "      <th>retweeted_status_user_id</th>\n",
       "      <th>retweeted_status_timestamp</th>\n",
       "      <th>expanded_urls</th>\n",
       "      <th>...</th>\n",
       "      <th>p2_dog</th>\n",
       "      <th>p3</th>\n",
       "      <th>p3_conf</th>\n",
       "      <th>p3_dog</th>\n",
       "      <th>retweet_count</th>\n",
       "      <th>favorite_count</th>\n",
       "      <th>followers_count</th>\n",
       "      <th>retweeted_status</th>\n",
       "      <th>url</th>\n",
       "      <th>stage</th>\n",
       "    </tr>\n",
       "  </thead>\n",
       "  <tbody>\n",
       "    <tr>\n",
       "      <th>0</th>\n",
       "      <td>892420643555336193</td>\n",
       "      <td>NaN</td>\n",
       "      <td>NaN</td>\n",
       "      <td>2017-08-01 16:23:56 +0000</td>\n",
       "      <td>&lt;a href=\"http://twitter.com/download/iphone\" r...</td>\n",
       "      <td>This is Phineas. He's a mystical boy. Only eve...</td>\n",
       "      <td>NaN</td>\n",
       "      <td>NaN</td>\n",
       "      <td>NaN</td>\n",
       "      <td>https://twitter.com/dog_rates/status/892420643...</td>\n",
       "      <td>...</td>\n",
       "      <td>True</td>\n",
       "      <td>Shetland_sheepdog</td>\n",
       "      <td>0.061428</td>\n",
       "      <td>True</td>\n",
       "      <td>7237</td>\n",
       "      <td>34675</td>\n",
       "      <td>9001806</td>\n",
       "      <td>Original tweet</td>\n",
       "      <td>https://t.co/MgUWQ76dJU</td>\n",
       "      <td></td>\n",
       "    </tr>\n",
       "    <tr>\n",
       "      <th>1</th>\n",
       "      <td>892177421306343426</td>\n",
       "      <td>NaN</td>\n",
       "      <td>NaN</td>\n",
       "      <td>2017-08-01 00:17:27 +0000</td>\n",
       "      <td>&lt;a href=\"http://twitter.com/download/iphone\" r...</td>\n",
       "      <td>This is Tilly. She's just checking pup on you....</td>\n",
       "      <td>NaN</td>\n",
       "      <td>NaN</td>\n",
       "      <td>NaN</td>\n",
       "      <td>https://twitter.com/dog_rates/status/892177421...</td>\n",
       "      <td>...</td>\n",
       "      <td>True</td>\n",
       "      <td>Rhodesian_ridgeback</td>\n",
       "      <td>0.072010</td>\n",
       "      <td>True</td>\n",
       "      <td>5420</td>\n",
       "      <td>30046</td>\n",
       "      <td>9001806</td>\n",
       "      <td>Original tweet</td>\n",
       "      <td>https://t.co/aQFSeaCu9L</td>\n",
       "      <td></td>\n",
       "    </tr>\n",
       "  </tbody>\n",
       "</table>\n",
       "<p>2 rows × 30 columns</p>\n",
       "</div>"
      ],
      "text/plain": [
       "             tweet_id  in_reply_to_status_id  in_reply_to_user_id  \\\n",
       "0  892420643555336193                    NaN                  NaN   \n",
       "1  892177421306343426                    NaN                  NaN   \n",
       "\n",
       "                   timestamp  \\\n",
       "0  2017-08-01 16:23:56 +0000   \n",
       "1  2017-08-01 00:17:27 +0000   \n",
       "\n",
       "                                              source  \\\n",
       "0  <a href=\"http://twitter.com/download/iphone\" r...   \n",
       "1  <a href=\"http://twitter.com/download/iphone\" r...   \n",
       "\n",
       "                                                text  retweeted_status_id  \\\n",
       "0  This is Phineas. He's a mystical boy. Only eve...                  NaN   \n",
       "1  This is Tilly. She's just checking pup on you....                  NaN   \n",
       "\n",
       "   retweeted_status_user_id retweeted_status_timestamp  \\\n",
       "0                       NaN                        NaN   \n",
       "1                       NaN                        NaN   \n",
       "\n",
       "                                       expanded_urls  ...  p2_dog  \\\n",
       "0  https://twitter.com/dog_rates/status/892420643...  ...    True   \n",
       "1  https://twitter.com/dog_rates/status/892177421...  ...    True   \n",
       "\n",
       "                    p3   p3_conf p3_dog  retweet_count favorite_count  \\\n",
       "0    Shetland_sheepdog  0.061428   True           7237          34675   \n",
       "1  Rhodesian_ridgeback  0.072010   True           5420          30046   \n",
       "\n",
       "   followers_count retweeted_status                      url  stage  \n",
       "0          9001806   Original tweet  https://t.co/MgUWQ76dJU         \n",
       "1          9001806   Original tweet  https://t.co/aQFSeaCu9L         \n",
       "\n",
       "[2 rows x 30 columns]"
      ]
     },
     "execution_count": 50,
     "metadata": {},
     "output_type": "execute_result"
    }
   ],
   "source": [
    "df_merge.head(2)"
   ]
  },
  {
   "cell_type": "markdown",
   "id": "8134d9b9-afad-4609-8359-22550ecc5b5b",
   "metadata": {},
   "source": [
    "## 4.5 Dropping duplicated tweets"
   ]
  },
  {
   "cell_type": "markdown",
   "id": "533b1f28-21f3-46ab-ba72-c8d91d2d9849",
   "metadata": {},
   "source": [
    "### 4.5.1 Define\n",
    " - We only want original dog ratings. So have to remove retweets as a user can retweet their on tweet."
   ]
  },
  {
   "cell_type": "code",
   "execution_count": 45,
   "id": "ad22bd2a-b06b-41ff-920c-8eab9f7f29f0",
   "metadata": {},
   "outputs": [
    {
     "data": {
      "text/plain": [
       "(2356, 34)"
      ]
     },
     "execution_count": 45,
     "metadata": {},
     "output_type": "execute_result"
    }
   ],
   "source": [
    "df_merge.shape"
   ]
  },
  {
   "cell_type": "markdown",
   "id": "48892f70-f032-457a-8f90-822f3d586514",
   "metadata": {},
   "source": [
    "### 4.5.2 Code"
   ]
  },
  {
   "cell_type": "code",
   "execution_count": 46,
   "id": "946a57de-e9a5-4298-a617-bb38b8fb992b",
   "metadata": {},
   "outputs": [],
   "source": [
    "df_merge = df_merge[df_merge.retweeted_status_id.isnull()]\n",
    "df_merge = df_merge[df_merge.retweeted_status_user_id.isnull()]\n",
    "df_merge = df_merge[df_merge.retweeted_status_timestamp.isnull()]"
   ]
  },
  {
   "cell_type": "markdown",
   "id": "dfe0bb6b-9cf7-4559-93ef-e161d5584562",
   "metadata": {},
   "source": [
    "### 4.5.3 Test"
   ]
  },
  {
   "cell_type": "code",
   "execution_count": 48,
   "id": "8b9d6e51-0111-4f2b-a1b0-9c2f04e0f592",
   "metadata": {},
   "outputs": [
    {
     "data": {
      "text/plain": [
       "(2175, 34)"
      ]
     },
     "execution_count": 48,
     "metadata": {},
     "output_type": "execute_result"
    }
   ],
   "source": [
    "df_merge.shape"
   ]
  },
  {
   "cell_type": "markdown",
   "id": "8ee31bb7-abd7-437a-b8fc-98e957083a2a",
   "metadata": {},
   "source": [
    "## 4.6 Remove null values"
   ]
  },
  {
   "cell_type": "markdown",
   "id": "ad6e55b8-8f1b-488e-9a81-3a509a022cb3",
   "metadata": {},
   "source": [
    "### 4.6.1 Define\n",
    " - Remove columns with missing data"
   ]
  },
  {
   "cell_type": "markdown",
   "id": "c3e41991-d27f-4ebd-ab59-f815c547b9d0",
   "metadata": {},
   "source": [
    "### 4.6.2 Code"
   ]
  },
  {
   "cell_type": "code",
   "execution_count": 51,
   "id": "e9f8c020-be3b-48af-b777-2443ded2b05d",
   "metadata": {},
   "outputs": [],
   "source": [
    "df_merge = df_merge.drop(['in_reply_to_status_id', 'in_reply_to_user_id', 'retweeted_status_id', 'retweeted_status_user_id', 'retweeted_status_timestamp', 'expanded_urls'], axis=1)"
   ]
  },
  {
   "cell_type": "markdown",
   "id": "4fbf2821-6c89-4a71-9196-48258e2268db",
   "metadata": {},
   "source": [
    "### 4.6.3 Test"
   ]
  },
  {
   "cell_type": "code",
   "execution_count": 52,
   "id": "4d1664bc-2f3f-46e7-a342-fe5e7fd5efed",
   "metadata": {},
   "outputs": [
    {
     "data": {
      "text/plain": [
       "(2175, 24)"
      ]
     },
     "execution_count": 52,
     "metadata": {},
     "output_type": "execute_result"
    }
   ],
   "source": [
    "df_merge.shape"
   ]
  },
  {
   "cell_type": "code",
   "execution_count": 53,
   "id": "5d6dba79-e4f5-498a-a172-4d34508c1bf9",
   "metadata": {},
   "outputs": [
    {
     "data": {
      "text/html": [
       "<div>\n",
       "<style scoped>\n",
       "    .dataframe tbody tr th:only-of-type {\n",
       "        vertical-align: middle;\n",
       "    }\n",
       "\n",
       "    .dataframe tbody tr th {\n",
       "        vertical-align: top;\n",
       "    }\n",
       "\n",
       "    .dataframe thead th {\n",
       "        text-align: right;\n",
       "    }\n",
       "</style>\n",
       "<table border=\"1\" class=\"dataframe\">\n",
       "  <thead>\n",
       "    <tr style=\"text-align: right;\">\n",
       "      <th></th>\n",
       "      <th>tweet_id</th>\n",
       "      <th>timestamp</th>\n",
       "      <th>source</th>\n",
       "      <th>text</th>\n",
       "      <th>rating_numerator</th>\n",
       "      <th>rating_denominator</th>\n",
       "      <th>name</th>\n",
       "      <th>jpg_url</th>\n",
       "      <th>img_num</th>\n",
       "      <th>p1</th>\n",
       "      <th>...</th>\n",
       "      <th>p2_dog</th>\n",
       "      <th>p3</th>\n",
       "      <th>p3_conf</th>\n",
       "      <th>p3_dog</th>\n",
       "      <th>retweet_count</th>\n",
       "      <th>favorite_count</th>\n",
       "      <th>followers_count</th>\n",
       "      <th>retweeted_status</th>\n",
       "      <th>url</th>\n",
       "      <th>stage</th>\n",
       "    </tr>\n",
       "  </thead>\n",
       "  <tbody>\n",
       "    <tr>\n",
       "      <th>0</th>\n",
       "      <td>892420643555336193</td>\n",
       "      <td>2017-08-01 16:23:56 +0000</td>\n",
       "      <td>&lt;a href=\"http://twitter.com/download/iphone\" r...</td>\n",
       "      <td>This is Phineas. He's a mystical boy. Only eve...</td>\n",
       "      <td>13</td>\n",
       "      <td>10</td>\n",
       "      <td>Phineas</td>\n",
       "      <td>https://pbs.twimg.com/media/CT4udn0WwAA0aMy.jpg</td>\n",
       "      <td>1.0</td>\n",
       "      <td>Welsh_springer_spaniel</td>\n",
       "      <td>...</td>\n",
       "      <td>True</td>\n",
       "      <td>Shetland_sheepdog</td>\n",
       "      <td>0.061428</td>\n",
       "      <td>True</td>\n",
       "      <td>7237</td>\n",
       "      <td>34675</td>\n",
       "      <td>9001806</td>\n",
       "      <td>Original tweet</td>\n",
       "      <td>https://t.co/MgUWQ76dJU</td>\n",
       "      <td></td>\n",
       "    </tr>\n",
       "    <tr>\n",
       "      <th>1</th>\n",
       "      <td>892177421306343426</td>\n",
       "      <td>2017-08-01 00:17:27 +0000</td>\n",
       "      <td>&lt;a href=\"http://twitter.com/download/iphone\" r...</td>\n",
       "      <td>This is Tilly. She's just checking pup on you....</td>\n",
       "      <td>13</td>\n",
       "      <td>10</td>\n",
       "      <td>Tilly</td>\n",
       "      <td>https://pbs.twimg.com/media/CT42GRgUYAA5iDo.jpg</td>\n",
       "      <td>1.0</td>\n",
       "      <td>redbone</td>\n",
       "      <td>...</td>\n",
       "      <td>True</td>\n",
       "      <td>Rhodesian_ridgeback</td>\n",
       "      <td>0.072010</td>\n",
       "      <td>True</td>\n",
       "      <td>5420</td>\n",
       "      <td>30046</td>\n",
       "      <td>9001806</td>\n",
       "      <td>Original tweet</td>\n",
       "      <td>https://t.co/aQFSeaCu9L</td>\n",
       "      <td></td>\n",
       "    </tr>\n",
       "  </tbody>\n",
       "</table>\n",
       "<p>2 rows × 24 columns</p>\n",
       "</div>"
      ],
      "text/plain": [
       "             tweet_id                  timestamp  \\\n",
       "0  892420643555336193  2017-08-01 16:23:56 +0000   \n",
       "1  892177421306343426  2017-08-01 00:17:27 +0000   \n",
       "\n",
       "                                              source  \\\n",
       "0  <a href=\"http://twitter.com/download/iphone\" r...   \n",
       "1  <a href=\"http://twitter.com/download/iphone\" r...   \n",
       "\n",
       "                                                text  rating_numerator  \\\n",
       "0  This is Phineas. He's a mystical boy. Only eve...                13   \n",
       "1  This is Tilly. She's just checking pup on you....                13   \n",
       "\n",
       "   rating_denominator     name  \\\n",
       "0                  10  Phineas   \n",
       "1                  10    Tilly   \n",
       "\n",
       "                                           jpg_url  img_num  \\\n",
       "0  https://pbs.twimg.com/media/CT4udn0WwAA0aMy.jpg      1.0   \n",
       "1  https://pbs.twimg.com/media/CT42GRgUYAA5iDo.jpg      1.0   \n",
       "\n",
       "                       p1  ...  p2_dog                   p3   p3_conf  p3_dog  \\\n",
       "0  Welsh_springer_spaniel  ...    True    Shetland_sheepdog  0.061428    True   \n",
       "1                 redbone  ...    True  Rhodesian_ridgeback  0.072010    True   \n",
       "\n",
       "  retweet_count favorite_count  followers_count retweeted_status  \\\n",
       "0          7237          34675          9001806   Original tweet   \n",
       "1          5420          30046          9001806   Original tweet   \n",
       "\n",
       "                       url stage  \n",
       "0  https://t.co/MgUWQ76dJU        \n",
       "1  https://t.co/aQFSeaCu9L        \n",
       "\n",
       "[2 rows x 24 columns]"
      ]
     },
     "execution_count": 53,
     "metadata": {},
     "output_type": "execute_result"
    }
   ],
   "source": [
    "df_merge.head(2)"
   ]
  },
  {
   "cell_type": "markdown",
   "id": "086999c1-99ec-4db4-a749-fb77c3971f9b",
   "metadata": {},
   "source": [
    "## 4.7 Column types"
   ]
  },
  {
   "cell_type": "markdown",
   "id": "9d580125-d9d2-4042-a197-d9ffcdb310f0",
   "metadata": {},
   "source": [
    "### 4.7.1 Define\n",
    " - Convert columns to their correct types"
   ]
  },
  {
   "cell_type": "markdown",
   "id": "226b2490-9fc0-458e-9ba2-bd25df799c4a",
   "metadata": {},
   "source": [
    "### 4.7.2 Code"
   ]
  },
  {
   "cell_type": "code",
   "execution_count": 54,
   "id": "b87e1132-4692-424a-a231-24f616e64ca5",
   "metadata": {},
   "outputs": [],
   "source": [
    "df_merge['tweet_id'] = df_merge['tweet_id'].astype(str)\n",
    "df_merge['timestamp'] = pd.to_datetime(df_merge['timestamp'])\n",
    "df_merge['retweet_count'] = df_merge['retweet_count'].astype(float)\n",
    "df_merge['favorite_count'] = df_merge['favorite_count'].astype(float)\n",
    "df_merge['followers_count'] = df_merge['followers_count'].astype(float)"
   ]
  },
  {
   "cell_type": "markdown",
   "id": "2383e3f1-9f41-46b1-be76-4b14315a791c",
   "metadata": {},
   "source": [
    "### 4.7.3 Test"
   ]
  },
  {
   "cell_type": "code",
   "execution_count": 55,
   "id": "39cbb664-3470-4d09-a348-5fa5c91becaf",
   "metadata": {},
   "outputs": [
    {
     "data": {
      "text/plain": [
       "tweet_id                           object\n",
       "timestamp             datetime64[ns, UTC]\n",
       "source                             object\n",
       "text                               object\n",
       "rating_numerator                    int64\n",
       "rating_denominator                  int64\n",
       "name                               object\n",
       "jpg_url                            object\n",
       "img_num                           float64\n",
       "p1                                 object\n",
       "p1_conf                           float64\n",
       "p1_dog                             object\n",
       "p2                                 object\n",
       "p2_conf                           float64\n",
       "p2_dog                             object\n",
       "p3                                 object\n",
       "p3_conf                           float64\n",
       "p3_dog                             object\n",
       "retweet_count                     float64\n",
       "favorite_count                    float64\n",
       "followers_count                   float64\n",
       "retweeted_status                   object\n",
       "url                                object\n",
       "stage                              object\n",
       "dtype: object"
      ]
     },
     "execution_count": 55,
     "metadata": {},
     "output_type": "execute_result"
    }
   ],
   "source": [
    "df_merge.dtypes"
   ]
  },
  {
   "cell_type": "markdown",
   "id": "4c602f7b-a9bf-4dee-a3b6-81534fa6da60",
   "metadata": {},
   "source": [
    "## 4.8 Quality issue"
   ]
  },
  {
   "cell_type": "markdown",
   "id": "142792b8-efa5-4621-bd56-b96fb930c479",
   "metadata": {},
   "source": [
    "### 4.8.1 Define\n",
    " - *name* column has 745 rows with \"None\" value and other values with lowercase text that are not dog names."
   ]
  },
  {
   "cell_type": "markdown",
   "id": "9458c293-0a0b-48cf-b500-32588c1fa5bb",
   "metadata": {},
   "source": [
    "### 4.6.2 Code"
   ]
  },
  {
   "cell_type": "code",
   "execution_count": 56,
   "id": "d3423b46-45fc-423a-922d-1d7a0f17ca37",
   "metadata": {},
   "outputs": [],
   "source": [
    "df_merge['name'] = df_merge['name'].replace(['None'], np.nan)"
   ]
  },
  {
   "cell_type": "code",
   "execution_count": 58,
   "id": "dd712b48-4aab-40a2-86ad-b51578df3ecd",
   "metadata": {},
   "outputs": [
    {
     "data": {
      "text/plain": [
       "0       False\n",
       "1       False\n",
       "2       False\n",
       "3       False\n",
       "4       False\n",
       "        ...  \n",
       "2351      NaN\n",
       "2352     True\n",
       "2353     True\n",
       "2354     True\n",
       "2355      NaN\n",
       "Name: name, Length: 2175, dtype: object"
      ]
     },
     "execution_count": 58,
     "metadata": {},
     "output_type": "execute_result"
    }
   ],
   "source": [
    "mask"
   ]
  },
  {
   "cell_type": "code",
   "execution_count": 60,
   "id": "31b9d99c-39ef-412f-bc6c-dd240451b842",
   "metadata": {},
   "outputs": [],
   "source": [
    "df_merge.loc[df_merge['name'].str.islower() == True, 'name'] = np.nan"
   ]
  },
  {
   "cell_type": "markdown",
   "id": "2296ef33-dd97-4d2a-8de8-f3011b5f98ac",
   "metadata": {},
   "source": [
    "### 4.6.3 Test"
   ]
  },
  {
   "cell_type": "code",
   "execution_count": 61,
   "id": "109b5e1d-e157-4879-9dec-626abe3d2e20",
   "metadata": {},
   "outputs": [
    {
     "data": {
      "text/plain": [
       "(0, 24)"
      ]
     },
     "execution_count": 61,
     "metadata": {},
     "output_type": "execute_result"
    }
   ],
   "source": [
    "df_merge[df_merge['name'] == 'None'].shape"
   ]
  },
  {
   "cell_type": "code",
   "execution_count": 62,
   "id": "e072d760-9d23-42b6-9807-bdbee41ecbc8",
   "metadata": {},
   "outputs": [
    {
     "data": {
      "text/plain": [
       "(0, 24)"
      ]
     },
     "execution_count": 62,
     "metadata": {},
     "output_type": "execute_result"
    }
   ],
   "source": [
    "df_merge[df_merge['name'] == 'a'].shape"
   ]
  },
  {
   "cell_type": "code",
   "execution_count": 63,
   "id": "73ba748a-5ac9-4346-8c8a-3f50ae53c9ee",
   "metadata": {},
   "outputs": [
    {
     "data": {
      "text/plain": [
       "(0, 24)"
      ]
     },
     "execution_count": 63,
     "metadata": {},
     "output_type": "execute_result"
    }
   ],
   "source": [
    "df_merge[df_merge['name'] == 'the'].shape"
   ]
  },
  {
   "cell_type": "code",
   "execution_count": 64,
   "id": "ecf9d59e-98e7-47c0-95e2-a8a8f09ebace",
   "metadata": {},
   "outputs": [
    {
     "data": {
      "text/plain": [
       "(0, 24)"
      ]
     },
     "execution_count": 64,
     "metadata": {},
     "output_type": "execute_result"
    }
   ],
   "source": [
    "df_merge[df_merge['name'] == 'such'].shape"
   ]
  },
  {
   "cell_type": "markdown",
   "id": "44793def-591d-4a2d-8c8c-3bc014aebff3",
   "metadata": {},
   "source": [
    "# 5. Storing, Analyzing, and Visualizing Data"
   ]
  },
  {
   "cell_type": "markdown",
   "id": "2b6ae68b-8e0a-4b9a-95ae-7425548daff6",
   "metadata": {},
   "source": [
    "## 5.1 Storing cleaned data in a CSV file"
   ]
  },
  {
   "cell_type": "code",
   "execution_count": 66,
   "id": "f47307f4-bdb8-4258-ab0d-4b754ee413fe",
   "metadata": {},
   "outputs": [],
   "source": [
    "df_merge.to_csv('twitter_archive_master.csv', index=False)"
   ]
  },
  {
   "cell_type": "markdown",
   "id": "b9e82036-3b9f-4025-a6c1-d9619cefa89c",
   "metadata": {},
   "source": [
    "## 5.2 Storing cleaned data in a SQL Lite database"
   ]
  },
  {
   "cell_type": "code",
   "execution_count": 67,
   "id": "d0627b97-c815-4682-b89e-da1a3f9ffa67",
   "metadata": {},
   "outputs": [],
   "source": [
    "from sqlalchemy import create_engine"
   ]
  },
  {
   "cell_type": "code",
   "execution_count": 68,
   "id": "4dd91caa-8e87-424a-94a5-9240a279a083",
   "metadata": {},
   "outputs": [],
   "source": [
    "# Create SQLAlchemy Engine and empty bestofrt database\n",
    "engine = create_engine('sqlite:///bestofrt.db')"
   ]
  },
  {
   "cell_type": "code",
   "execution_count": 69,
   "id": "c0203546-a400-476f-aa8f-399ca8b5f80f",
   "metadata": {},
   "outputs": [],
   "source": [
    "# Store cleaned master DataFrame ('df') in a table called table_cleaned_data in bestofrt.db\n",
    "df_merge.to_sql('table_cleaned_data', engine, if_exists='replace',index=False)"
   ]
  },
  {
   "cell_type": "markdown",
   "id": "043bbf71-c903-4fcc-b96d-d4df601d0c53",
   "metadata": {},
   "source": [
    "## 5.3 Visualizing Data"
   ]
  },
  {
   "cell_type": "code",
   "execution_count": 70,
   "id": "a3eacdf1-d7d3-4001-a19d-61782b57524e",
   "metadata": {},
   "outputs": [
    {
     "data": {
      "text/html": [
       "<div>\n",
       "<style scoped>\n",
       "    .dataframe tbody tr th:only-of-type {\n",
       "        vertical-align: middle;\n",
       "    }\n",
       "\n",
       "    .dataframe tbody tr th {\n",
       "        vertical-align: top;\n",
       "    }\n",
       "\n",
       "    .dataframe thead th {\n",
       "        text-align: right;\n",
       "    }\n",
       "</style>\n",
       "<table border=\"1\" class=\"dataframe\">\n",
       "  <thead>\n",
       "    <tr style=\"text-align: right;\">\n",
       "      <th></th>\n",
       "      <th>tweet_id</th>\n",
       "      <th>timestamp</th>\n",
       "      <th>source</th>\n",
       "      <th>text</th>\n",
       "      <th>rating_numerator</th>\n",
       "      <th>rating_denominator</th>\n",
       "      <th>name</th>\n",
       "      <th>jpg_url</th>\n",
       "      <th>img_num</th>\n",
       "      <th>p1</th>\n",
       "      <th>...</th>\n",
       "      <th>p2_dog</th>\n",
       "      <th>p3</th>\n",
       "      <th>p3_conf</th>\n",
       "      <th>p3_dog</th>\n",
       "      <th>retweet_count</th>\n",
       "      <th>favorite_count</th>\n",
       "      <th>followers_count</th>\n",
       "      <th>retweeted_status</th>\n",
       "      <th>url</th>\n",
       "      <th>stage</th>\n",
       "    </tr>\n",
       "  </thead>\n",
       "  <tbody>\n",
       "    <tr>\n",
       "      <th>0</th>\n",
       "      <td>892420643555336193</td>\n",
       "      <td>2017-08-01 16:23:56+00:00</td>\n",
       "      <td>&lt;a href=\"http://twitter.com/download/iphone\" r...</td>\n",
       "      <td>This is Phineas. He's a mystical boy. Only eve...</td>\n",
       "      <td>13</td>\n",
       "      <td>10</td>\n",
       "      <td>Phineas</td>\n",
       "      <td>https://pbs.twimg.com/media/CT4udn0WwAA0aMy.jpg</td>\n",
       "      <td>1.0</td>\n",
       "      <td>Welsh_springer_spaniel</td>\n",
       "      <td>...</td>\n",
       "      <td>True</td>\n",
       "      <td>Shetland_sheepdog</td>\n",
       "      <td>0.061428</td>\n",
       "      <td>True</td>\n",
       "      <td>7237.0</td>\n",
       "      <td>34675.0</td>\n",
       "      <td>9001806.0</td>\n",
       "      <td>Original tweet</td>\n",
       "      <td>https://t.co/MgUWQ76dJU</td>\n",
       "      <td></td>\n",
       "    </tr>\n",
       "    <tr>\n",
       "      <th>1</th>\n",
       "      <td>892177421306343426</td>\n",
       "      <td>2017-08-01 00:17:27+00:00</td>\n",
       "      <td>&lt;a href=\"http://twitter.com/download/iphone\" r...</td>\n",
       "      <td>This is Tilly. She's just checking pup on you....</td>\n",
       "      <td>13</td>\n",
       "      <td>10</td>\n",
       "      <td>Tilly</td>\n",
       "      <td>https://pbs.twimg.com/media/CT42GRgUYAA5iDo.jpg</td>\n",
       "      <td>1.0</td>\n",
       "      <td>redbone</td>\n",
       "      <td>...</td>\n",
       "      <td>True</td>\n",
       "      <td>Rhodesian_ridgeback</td>\n",
       "      <td>0.072010</td>\n",
       "      <td>True</td>\n",
       "      <td>5420.0</td>\n",
       "      <td>30046.0</td>\n",
       "      <td>9001806.0</td>\n",
       "      <td>Original tweet</td>\n",
       "      <td>https://t.co/aQFSeaCu9L</td>\n",
       "      <td></td>\n",
       "    </tr>\n",
       "  </tbody>\n",
       "</table>\n",
       "<p>2 rows × 24 columns</p>\n",
       "</div>"
      ],
      "text/plain": [
       "             tweet_id                 timestamp  \\\n",
       "0  892420643555336193 2017-08-01 16:23:56+00:00   \n",
       "1  892177421306343426 2017-08-01 00:17:27+00:00   \n",
       "\n",
       "                                              source  \\\n",
       "0  <a href=\"http://twitter.com/download/iphone\" r...   \n",
       "1  <a href=\"http://twitter.com/download/iphone\" r...   \n",
       "\n",
       "                                                text  rating_numerator  \\\n",
       "0  This is Phineas. He's a mystical boy. Only eve...                13   \n",
       "1  This is Tilly. She's just checking pup on you....                13   \n",
       "\n",
       "   rating_denominator     name  \\\n",
       "0                  10  Phineas   \n",
       "1                  10    Tilly   \n",
       "\n",
       "                                           jpg_url  img_num  \\\n",
       "0  https://pbs.twimg.com/media/CT4udn0WwAA0aMy.jpg      1.0   \n",
       "1  https://pbs.twimg.com/media/CT42GRgUYAA5iDo.jpg      1.0   \n",
       "\n",
       "                       p1  ...  p2_dog                   p3   p3_conf  p3_dog  \\\n",
       "0  Welsh_springer_spaniel  ...    True    Shetland_sheepdog  0.061428    True   \n",
       "1                 redbone  ...    True  Rhodesian_ridgeback  0.072010    True   \n",
       "\n",
       "  retweet_count favorite_count  followers_count retweeted_status  \\\n",
       "0        7237.0        34675.0        9001806.0   Original tweet   \n",
       "1        5420.0        30046.0        9001806.0   Original tweet   \n",
       "\n",
       "                       url  stage  \n",
       "0  https://t.co/MgUWQ76dJU         \n",
       "1  https://t.co/aQFSeaCu9L         \n",
       "\n",
       "[2 rows x 24 columns]"
      ]
     },
     "execution_count": 70,
     "metadata": {},
     "output_type": "execute_result"
    }
   ],
   "source": [
    "df_merge.head(2)"
   ]
  },
  {
   "cell_type": "markdown",
   "id": "f311c686-94ba-4ba4-855d-e7ee8908c003",
   "metadata": {},
   "source": [
    "### 5.3.1 tweets over time"
   ]
  },
  {
   "cell_type": "code",
   "execution_count": 71,
   "id": "8d0b0c36-48a7-49de-ba7d-f910a1a60d46",
   "metadata": {},
   "outputs": [
    {
     "data": {
      "image/png": "[encoded data removed]",
      "text/plain": [
       "<Figure size 432x288 with 1 Axes>"
      ]
     },
     "metadata": {
      "needs_background": "light"
     },
     "output_type": "display_data"
    }
   ],
   "source": [
    "data_group = df_merge.groupby(pd.Grouper(key = 'timestamp', freq = \"M\")).count().reset_index()\n",
    "data_group = data_group[['timestamp', 'tweet_id']]\n",
    "plt.plot(data_group['timestamp'], data_group['tweet_id'])\n",
    "plt.title('# tweets over time')\n",
    "plt.ylabel('# tweets')\n",
    "plt.savefig('tweets_over_time')\n",
    "plt.show()"
   ]
  },
  {
   "cell_type": "markdown",
   "id": "6f32c4e4-50b0-4799-96b0-e6a344e742ed",
   "metadata": {},
   "source": [
    " - **Insight**: Through time, the number of tweets has decreased, in 2016 there were almost 400 tweets per month, however in 2017 this quantity decreased near to zero."
   ]
  },
  {
   "cell_type": "markdown",
   "id": "77709286-b3d4-4042-84ee-96057bb6d4f2",
   "metadata": {},
   "source": [
    "### 5.3.2 retweet and favorite count over time"
   ]
  },
  {
   "cell_type": "code",
   "execution_count": 72,
   "id": "1bb30051-35b4-47fc-9dd9-c759cd1f9157",
   "metadata": {},
   "outputs": [
    {
     "data": {
      "image/png": "[encoded data removed]",
      "text/plain": [
       "<Figure size 432x288 with 1 Axes>"
      ]
     },
     "metadata": {
      "needs_background": "light"
     },
     "output_type": "display_data"
    }
   ],
   "source": [
    "data_group = df_merge.groupby(pd.Grouper(key = 'timestamp', freq = \"M\")).agg({'retweet_count':'sum', 'favorite_count':'sum'}).reset_index()\n",
    "plt.plot(data_group['timestamp'], data_group['retweet_count'])\n",
    "plt.plot(data_group['timestamp'], data_group['favorite_count'])\n",
    "plt.title('Retweet and Favorite count over time')\n",
    "plt.ylabel('quantity')\n",
    "plt.legend(['retweet', 'favorite'], loc='upper left')\n",
    "plt.savefig('retweet_favorite_count_over_time')\n",
    "plt.show()"
   ]
  },
  {
   "cell_type": "markdown",
   "id": "3f8a7ca8-f84d-4bf2-84aa-e7d2b1931113",
   "metadata": {},
   "source": [
    " - **Insight**: Through time, the number of retweets and favorites have followed a similar trend, the only difference is that the number of favorites has been greater than retweets."
   ]
  },
  {
   "cell_type": "markdown",
   "id": "b8be6374-bb49-4149-944e-9d0796a3d3b7",
   "metadata": {},
   "source": [
    "### 5.3.3 Most common dog names"
   ]
  },
  {
   "cell_type": "code",
   "execution_count": 73,
   "id": "284d9986-8483-4716-9102-2b40bb0acb80",
   "metadata": {},
   "outputs": [
    {
     "data": {
      "image/png": "[encoded data removed]",
      "text/plain": [
       "<Figure size 432x288 with 1 Axes>"
      ]
     },
     "metadata": {
      "needs_background": "light"
     },
     "output_type": "display_data"
    }
   ],
   "source": [
    "data_group = df_merge.groupby('name').agg({'tweet_id':'count'}).reset_index().sort_values(by='tweet_id', ascending=False)\n",
    "data_group[0:9].plot(kind='bar',x='name', legend=False)\n",
    "plt.title('Most Common Dog Names')\n",
    "plt.ylabel('# tweets')\n",
    "plt.savefig('dog_names_over_time')\n",
    "plt.show()"
   ]
  },
  {
   "cell_type": "markdown",
   "id": "576fa61e-6bdf-499d-af11-7366838973a9",
   "metadata": {},
   "source": [
    " - **Insight**: Through time, Charlie, Lucy and Oliver are the three most common names."
   ]
  },
  {
   "cell_type": "markdown",
   "id": "5b4f2b3f-7963-460d-bd32-ce07287a9b9f",
   "metadata": {},
   "source": [
    "### 5.3.4 Dog Stage"
   ]
  },
  {
   "cell_type": "code",
   "execution_count": 82,
   "id": "d95fc458-ee1e-401f-89ba-a5d64937c9c5",
   "metadata": {},
   "outputs": [
    {
     "data": {
      "image/png": "[encoded data removed]",
      "text/plain": [
       "<Figure size 432x288 with 1 Axes>"
      ]
     },
     "metadata": {
      "needs_background": "light"
     },
     "output_type": "display_data"
    }
   ],
   "source": [
    "data_group = df_merge.groupby('stage').agg({'tweet_id':'count'}).reset_index()\n",
    "data_group[data_group.stage != ''].plot(kind='bar',x='stage', legend=False)\n",
    "plt.title('Most Common Dog Stages')\n",
    "plt.ylabel('# tweets')\n",
    "plt.savefig('dog_stage_count')\n",
    "plt.show()"
   ]
  },
  {
   "cell_type": "markdown",
   "id": "701a4280-d48f-43e4-98de-8aa88e7bcef8",
   "metadata": {},
   "source": [
    " - **Insight**: Through time, pupper is the most common dog stage."
   ]
  },
  {
   "cell_type": "code",
   "execution_count": null,
   "id": "9932eb2c-46ee-4606-b9fc-d7727541351e",
   "metadata": {},
   "outputs": [],
   "source": []
  }
 ],
 "metadata": {
  "kernelspec": {
   "display_name": "Python 3",
   "language": "python",
   "name": "python3"
  },
  "language_info": {
   "codemirror_mode": {
    "name": "ipython",
    "version": 3
   },
   "file_extension": ".py",
   "mimetype": "text/x-python",
   "name": "python",
   "nbconvert_exporter": "python",
   "pygments_lexer": "ipython3",
   "version": "3.8.10"
  }
 },
 "nbformat": 4,
 "nbformat_minor": 5
}
